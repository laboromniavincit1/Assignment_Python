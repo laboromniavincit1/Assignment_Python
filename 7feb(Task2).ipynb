{
 "cells": [
  {
   "cell_type": "code",
   "execution_count": 2,
   "id": "43f37fad-9267-49aa-84ed-c396ad52666a",
   "metadata": {},
   "outputs": [
    {
     "name": "stdin",
     "output_type": "stream",
     "text": [
      "Enter your password :  RasdQ!!!123\n"
     ]
    },
    {
     "name": "stdout",
     "output_type": "stream",
     "text": [
      "Valid Password\n"
     ]
    }
   ],
   "source": [
    "# Q1. You are writing code for a company. The requirement of the company is that you create a python\n",
    "# function that will check whether the password entered by the user is correct or not. The function should\n",
    "# take the password as input and return the string “Valid Password” if the entered password follows the\n",
    "# below-given password guidelines else it should return “Invalid Password”.\n",
    "# Note: 1. The Password should contain at least two uppercase letters and at least two lowercase letters.\n",
    "# 2. The Password should contain at least a number and three special characters.\n",
    "# 3. The length of the password should be 10 characters long.\n",
    "import string\n",
    "def check_password(passwd):\n",
    "    upper,lower,number,special = 0,0,0,0\n",
    "    special_char = string.punctuation\n",
    "    for i in passwd:\n",
    "        if i.isupper():\n",
    "            upper += 1\n",
    "        elif i.islower():\n",
    "            lower +=1\n",
    "        elif i.isnumeric():\n",
    "            number += 1\n",
    "        elif i in special_char:\n",
    "            special += 1\n",
    "    if upper >= 2 and lower >= 2 and number >= 1 and special >= 3 and len(passwd) >= 10:\n",
    "        return \"Valid Password\"\n",
    "    else :\n",
    "        return \"Invalid Password\"\n",
    "password = input(\"Enter your password : \")\n",
    "isvalid = check_password(password)\n",
    "print(isvalid)"
   ]
  },
  {
   "cell_type": "code",
   "execution_count": 1,
   "id": "efe2d1d9-cf8c-4d72-8ea3-723c3cf5e234",
   "metadata": {},
   "outputs": [
    {
     "data": {
      "text/plain": [
       "True"
      ]
     },
     "execution_count": 1,
     "metadata": {},
     "output_type": "execute_result"
    }
   ],
   "source": [
    "# Q2. Solve the below-given questions using at least one of the following:\n",
    "# 1. Lambda functioJ\n",
    "# 2. Filter functioJ\n",
    "# 3. Map functioJ\n",
    "# 4. List ComprehensioI\n",
    "# B Check if the string starts with a particular letterY\n",
    "# B Check if the string is numericY\n",
    "# B Sort a list of tuples having fruit names and their quantity. [(\"mango\",99),(\"orange\",80), (\"grapes\", 1000)-\n",
    "# B Find the squares of numbers from 1 to 10Y\n",
    "# B Find the cube root of numbers from 1 to 10Y\n",
    "# B Check if a given number is evenY\n",
    "# B Filter odd numbers from the given list.\n",
    "# [1,2,3,4,5,6,7,8,9,10-\n",
    "# B Sort a list of integers into positive and negative integers lists.\n",
    "# [1,2,3,4,5,6,-1,-2,-3,-4,-5,0]\n",
    "Out = lambda x,y : True if x[:1:] == y else False\n",
    "Out(\"Hello\", \"H\")\n"
   ]
  },
  {
   "cell_type": "code",
   "execution_count": 2,
   "id": "a6ebc984-0a52-4d0e-8a73-58a9b576f99e",
   "metadata": {},
   "outputs": [
    {
     "data": {
      "text/plain": [
       "True"
      ]
     },
     "execution_count": 2,
     "metadata": {},
     "output_type": "execute_result"
    }
   ],
   "source": [
    "# 2.1\n",
    "num = lambda x: True if type(int(x)) else False\n",
    "num(\"123\")\n",
    "\n",
    "# 2.2\n",
    "num = lambda x : x.isnumeric()\n",
    "num(\"123\")"
   ]
  },
  {
   "cell_type": "code",
   "execution_count": 3,
   "id": "f8cec429-5b5c-4b9f-8ead-5f41cc6a5b3c",
   "metadata": {},
   "outputs": [
    {
     "data": {
      "text/plain": [
       "[('grapes', 1000), ('mango', 99), ('orange', 80)]"
      ]
     },
     "execution_count": 3,
     "metadata": {},
     "output_type": "execute_result"
    }
   ],
   "source": [
    "#3.1\n",
    "l1 = [(\"mango\",99),(\"orange\",80), (\"grapes\", 1000)]\n",
    "l1new = lambda l1 : l1.sort()   #it sort the list according to fruits name \n",
    "l1new(l1)\n",
    "l1"
   ]
  },
  {
   "cell_type": "code",
   "execution_count": 4,
   "id": "6847d3a6-41c2-40ef-bc0d-f06ea90869cb",
   "metadata": {},
   "outputs": [
    {
     "data": {
      "text/plain": [
       "[('orange', 80), ('mango', 99), ('grapes', 1000)]"
      ]
     },
     "execution_count": 4,
     "metadata": {},
     "output_type": "execute_result"
    }
   ],
   "source": [
    "#3.2\n",
    "l1 = [(\"mango\",99),(\"orange\",80), (\"grapes\", 1000)]\n",
    "l1new = lambda l1 : l1.sort(key= lambda x: x[1])   #it sort the list according to values\n",
    "l1new(l1)\n",
    "l1"
   ]
  },
  {
   "cell_type": "code",
   "execution_count": 5,
   "id": "21d8be73-8dba-4e5d-8be9-257c75c4199c",
   "metadata": {},
   "outputs": [
    {
     "data": {
      "text/plain": [
       "{1, 4, 9, 16, 25, 36, 49, 64, 81, 100}"
      ]
     },
     "execution_count": 5,
     "metadata": {},
     "output_type": "execute_result"
    }
   ],
   "source": [
    "# 4\n",
    "l2 = [i for i in range(1,11)]\n",
    "def square(x): \n",
    "    return x**2\n",
    "sqr = map(square,l2)\n",
    "set(sqr)"
   ]
  },
  {
   "cell_type": "code",
   "execution_count": 7,
   "id": "58312051-7d3c-422d-aace-332230f1b078",
   "metadata": {},
   "outputs": [
    {
     "data": {
      "text/plain": [
       "{1.0,\n",
       " 1.2599210498948732,\n",
       " 1.4422495703074083,\n",
       " 1.5874010519681994,\n",
       " 1.7099759466766968,\n",
       " 1.8171205928321397,\n",
       " 1.912931182772389,\n",
       " 2.0,\n",
       " 2.080083823051904,\n",
       " 2.154434690031884}"
      ]
     },
     "execution_count": 7,
     "metadata": {},
     "output_type": "execute_result"
    }
   ],
   "source": [
    "# 5\n",
    "l3 = [i for i in range(1,11)]\n",
    "def cuberoot(x): \n",
    "    return x**(1/3)\n",
    "sqr = map(cuberoot,l3)\n",
    "set(sqr)"
   ]
  },
  {
   "cell_type": "code",
   "execution_count": 8,
   "id": "0774091d-4c92-4285-b516-2713620646a5",
   "metadata": {},
   "outputs": [
    {
     "data": {
      "text/plain": [
       "True"
      ]
     },
     "execution_count": 8,
     "metadata": {},
     "output_type": "execute_result"
    }
   ],
   "source": [
    "# 6\n",
    "iseven = lambda x : True if x % 2 == 0 else False\n",
    "iseven(6)"
   ]
  },
  {
   "cell_type": "code",
   "execution_count": 14,
   "id": "61fa9dc8-7f22-4ef4-8424-40b37051d39b",
   "metadata": {},
   "outputs": [
    {
     "data": {
      "text/plain": [
       "[2, 4, 6, 8, 10]"
      ]
     },
     "execution_count": 14,
     "metadata": {},
     "output_type": "execute_result"
    }
   ],
   "source": [
    "# 7 Filter odd numbers from the given list.\n",
    "l4 =[1,2,3,4,5,6,7,8,9,10]\n",
    "def isodd(x):\n",
    "    if x %2 == 0 :\n",
    "        return x\n",
    "    else :\n",
    "        pass\n",
    "odd = filter(isodd, l4)\n",
    "list(odd)"
   ]
  },
  {
   "cell_type": "code",
   "execution_count": 19,
   "id": "3e650c40-98f7-49e8-b4f6-94c93a779418",
   "metadata": {},
   "outputs": [
    {
     "name": "stdout",
     "output_type": "stream",
     "text": [
      "[1, 2, 3, 4, 5, 6, -1, -2, -3, -4, -5, 0]\n"
     ]
    },
    {
     "data": {
      "text/plain": [
       "[-5, -4, -3, -2, -1, 0, 1, 2, 3, 4, 5, 6]"
      ]
     },
     "execution_count": 19,
     "metadata": {},
     "output_type": "execute_result"
    }
   ],
   "source": [
    "#8 Sort a list of integers into positive and negative integers lists.\n",
    "l5 = [1,2,3,4,5,6,-1,-2,-3,-4,-5,0]\n",
    "sort1 = lambda x : x.sort()\n",
    "print(l5)\n",
    "sort1(l5)\n",
    "l5"
   ]
  },
  {
   "cell_type": "code",
   "execution_count": null,
   "id": "321b4423-69da-49e7-aad1-3e6580a11c36",
   "metadata": {},
   "outputs": [],
   "source": []
  }
 ],
 "metadata": {
  "kernelspec": {
   "display_name": "Python 3 (ipykernel)",
   "language": "python",
   "name": "python3"
  },
  "language_info": {
   "codemirror_mode": {
    "name": "ipython",
    "version": 3
   },
   "file_extension": ".py",
   "mimetype": "text/x-python",
   "name": "python",
   "nbconvert_exporter": "python",
   "pygments_lexer": "ipython3",
   "version": "3.10.8"
  }
 },
 "nbformat": 4,
 "nbformat_minor": 5
}
