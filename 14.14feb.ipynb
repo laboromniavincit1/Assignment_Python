{
 "cells": [
  {
   "cell_type": "code",
   "execution_count": 20,
   "id": "b3e112f2-9c5a-4e0e-a941-7b7ce9137635",
   "metadata": {},
   "outputs": [
    {
     "name": "stdout",
     "output_type": "stream",
     "text": [
      "16\n",
      "4\n",
      "25\n"
     ]
    }
   ],
   "source": [
    "# Q1. What is multithreading in python? Why is it used? Name the module used to handle threads in python?\n",
    "#Answer: Multithreading is a process of run multiple threads in a single process.\n",
    "       # Multithreading is used to imporve the overall performace of a program \n",
    "       # threading module is used to handle the threads in python and Thread funtion is used to handle the threads \n",
    "#Example:\n",
    "import threading\n",
    "import time\n",
    "def test(n):\n",
    "        print( n**2)\n",
    "        time.sleep(n)\n",
    "thread = [threading.Thread(target=test, args = [i]) for i in [4,2,5] ]\n",
    "for t in thread:\n",
    "    t.start()\n",
    "    t.join()"
   ]
  },
  {
   "cell_type": "code",
   "execution_count": 21,
   "id": "a56be56b-e558-497a-bcca-f3f8b7bec354",
   "metadata": {},
   "outputs": [],
   "source": [
    "# Q2. Why threading module used? Write the use of the following functions?\n",
    "# 1. activeCount()\n",
    "# 2. currentThread()\n",
    "# 3. enumerate()\n",
    "#Answer : The threading module in Python is used to implement multithreading, which allows concurrent execution of multiple \n",
    "        # threads within a single program. \n",
    "# 1. The activeCount() method is a function provided by the threading module in Python. It is used to determine the number of \n",
    "   # active Thread objects in the current program. An active thread is a thread that has been started and has not yet finished  \n",
    "   # its execution or been terminated.\n",
    "\n",
    "# 2.The currentThread() function is another useful function provided by the threading module in Python. It returns the \n",
    "    # currently executing Thread object, representing the thread from which the function is called.\n",
    "\n",
    "# 3. The enumerate() function in the threading module is used to retrieve a list of all currently active Thread objects.\n",
    "    #It returns a list that contains all Thread objects currently alive."
   ]
  },
  {
   "cell_type": "code",
   "execution_count": 22,
   "id": "f802a8b3-662c-4c22-89e2-15c338b70161",
   "metadata": {},
   "outputs": [],
   "source": [
    "# Q3. Explain the following functions?\n",
    "# 1 run()\n",
    "# 2. start()\n",
    "# 3. join()\n",
    "# 4. isAlive()\n",
    "#Answer: \n",
    "#1. The run() method is not directly called for a Thread object. Instead, we typically call the start() method to start a new \n",
    "    #thread, which then internally invokes the run() method.\n",
    "    # The run() method is the entry point for the thread's execution. It contains the code that will be executed in the separate\n",
    "    #thread when it is started. We can define your own run() \n",
    "\n",
    "# 2. In the threading module of Python, the start() method is used to start the execution of a thread. It initiates the execution\n",
    "    #of the target function specified while creating the Thread object.\n",
    "\n",
    "# 3. It is used to control the execution flow of threads by allowing one thread to wait for another thread to complete its \n",
    "    # execution before proceeding further.\n",
    "    \n",
    "# 4.  It is used to check whether a Thread object is currently alive or not. The method returns a Boolean value indicating the \n",
    "     # thread's status."
   ]
  },
  {
   "cell_type": "code",
   "execution_count": 30,
   "id": "c2460259-9dd5-4bb6-be2b-dc77016c8e21",
   "metadata": {},
   "outputs": [
    {
     "name": "stdout",
     "output_type": "stream",
     "text": [
      "[1, 4, 9, 16, 25, 36, 49, 64, 81, 100]\n",
      "[1, 8, 27, 64, 125, 216, 343, 512, 729, 1000]\n"
     ]
    }
   ],
   "source": [
    "# Q4. Write a python program to create two threads. Thread one must print the list of squares and thread\n",
    "# two must print the list of cubes.\n",
    "#Answer : \n",
    "import threading\n",
    "def square(s):\n",
    "    l = [i**2 for i in s] \n",
    "    print(l)\n",
    "def cube(c):\n",
    "    l = [i**3 for i in c]\n",
    "    print(l)\n",
    "l = [i for i in range(1,11)]\n",
    "\n",
    "thread_square = threading.Thread(target = square, args=[l])\n",
    "thread_cube = threading.Thread(target = cube, args = [l])\n",
    "thread_square.start()\n",
    "thread_cube.start()\n",
    "thread_square.join()\n",
    "thread_cube.join()"
   ]
  },
  {
   "cell_type": "code",
   "execution_count": 32,
   "id": "37bb4351-d46f-4686-a5e1-131111a3c121",
   "metadata": {},
   "outputs": [],
   "source": [
    "# Q5. State advantages and disadvantages of multithreading\n",
    "#Answer :\n",
    "# Advantages of Multithreading in Python:\n",
    "# 1.Improved performance: Multithreading can help increase the overall performance of an application, especially on systems with \n",
    "#                           multiple processors or cores. It allows multiple tasks to run concurrently, utilizing the available \n",
    "#                           CPU resources more efficiently.\n",
    "# 2. Responsiveness: In a single-threaded environment, if a long-running task blocks the main thread, the entire application \n",
    "#                    becomes unresponsive. Multithreading can prevent this issue by running such tasks in separate threads,\n",
    "#                    ensuring the application remains responsive.\n",
    "# 3. Better resource utilization: Multithreading allows better utilization of system resources by keeping the CPU busy while\n",
    "#                                 waiting for I/O operations or other tasks to complete.\n",
    "# 4. Parallelism: Multithreading enables parallelism, which can lead to significant performance improvements in applications\n",
    "#                 that can be divided into smaller, independent tasks.\n",
    "\n",
    "# Disadvantages of Multithreading in Python:\n",
    "# 1. Complexity: Multithreading adds complexity to the program, making it more difficult to design, implement, and debug.\n",
    "# 2. Synchronization overhead: To avoid data corruption and maintain consistency, developers must synchronize access to shared \n",
    "#                              resources, which can result in additional overhead and reduced performance.\n",
    "# 3. Limited by hardware: The performance benefits of multithreading are limited by the number of available cores or processors \n",
    "#                         in the system. In some cases, excessive use of threads can lead to performance degradation instead of\n",
    "#                         improvement."
   ]
  },
  {
   "cell_type": "code",
   "execution_count": null,
   "id": "909857cd-0cbf-48f5-91eb-87f4bbb479eb",
   "metadata": {},
   "outputs": [],
   "source": [
    "# Q6. Explain deadlocks and race conditions.\n",
    "#Answer :Deadlocks:Deadlocks occur when two or more processes or threads are unable to proceed because each is waiting for the\n",
    "       # other to release a resource . Deadlocks can happen when multiple threads or processes compete for exclusive access to \n",
    "      #  shared resources without proper synchronization or resource management.\n",
    " #Race Conditions: In Python, race conditions often happen when multiple threads or processes access shared data concurrently,\n",
    "                  # leading to unexpected results.These conditions arise when proper synchronization mechanisms are not \n",
    "                  # implemented to ensure that critical sections of code are executed atomically or in a specific order."
   ]
  }
 ],
 "metadata": {
  "kernelspec": {
   "display_name": "Python 3 (ipykernel)",
   "language": "python",
   "name": "python3"
  },
  "language_info": {
   "codemirror_mode": {
    "name": "ipython",
    "version": 3
   },
   "file_extension": ".py",
   "mimetype": "text/x-python",
   "name": "python",
   "nbconvert_exporter": "python",
   "pygments_lexer": "ipython3",
   "version": "3.10.8"
  }
 },
 "nbformat": 4,
 "nbformat_minor": 5
}
