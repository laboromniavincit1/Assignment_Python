{
 "cells": [
  {
   "cell_type": "code",
   "execution_count": 2,
   "id": "7a66ff88-269b-4691-9ee3-174b2b6fbabf",
   "metadata": {},
   "outputs": [
    {
     "data": {
      "text/plain": [
       "15"
      ]
     },
     "execution_count": 2,
     "metadata": {},
     "output_type": "execute_result"
    }
   ],
   "source": [
    "# Q1. Which function is used to open a file? What are the different modes of opening a file? Explain each mode\n",
    "# of file opening.\n",
    "#Answer : open() function is used to open a file. There are different modes od opening a file \n",
    "          # 1.r = open for reading a file  (default mode)\n",
    "          # 2.w = open for writing a file , truncate the file first\n",
    "          # 3.x = create a new file and open it for writing\n",
    "          # 4.a = open for appending to the end of the file if it exists\n",
    "          # 5.b = open a file in binary mode\n",
    "          # 6.t = text mode(default mode )\n",
    "          # 7.+ = + is used for open a file for (reading and writing) e.g if we open a file in r+ mode that means file is open for reading \n",
    "          #       and writing but the previous data in the file will be overridden. But if we open a file in a+ but it appeds the data in the\n",
    "          #       file it won’t override existing data  and we can also read the file\n",
    "#Example \n",
    "f = open(\"test.txt\",\"w\")\n",
    "f.write(\"Hello kaise ho \")"
   ]
  },
  {
   "cell_type": "code",
   "execution_count": 3,
   "id": "63e9f180-87c1-4fbf-b7f3-c96b8aa6c47c",
   "metadata": {},
   "outputs": [],
   "source": [
    "f.close()"
   ]
  },
  {
   "cell_type": "code",
   "execution_count": 4,
   "id": "0c691e69-728f-4c37-b2ab-95dbf1a308ad",
   "metadata": {},
   "outputs": [
    {
     "name": "stdout",
     "output_type": "stream",
     "text": [
      "Hello kaise ho \n"
     ]
    }
   ],
   "source": [
    "f = open(\"test.txt\",\"r\")\n",
    "print(f.read())"
   ]
  },
  {
   "cell_type": "code",
   "execution_count": 5,
   "id": "6bb2d6f1-2303-419e-9498-ae1dc2c35247",
   "metadata": {},
   "outputs": [
    {
     "data": {
      "text/plain": [
       "15"
      ]
     },
     "execution_count": 5,
     "metadata": {},
     "output_type": "execute_result"
    }
   ],
   "source": [
    "# Q2. Why close() function is used? Why is it important to close a file?\n",
    "#Answer: close() function is used to close the file in python. close() function is use because without closing the file the data written \n",
    "        # in it is not update in the file. OR until we close the file the data will not update in the file thats why we use close() \n",
    "        # function to close the file\n",
    "        # Or we can say that if we want to save the data in the file we have to close the file using close function.\n",
    "f = open(\"test.txt\",\"w\")\n",
    "f.write(\"Hello kaise ho \")\n",
    "#now the data is not in the file if we want to see the data in the file or read the data from the file we need to close it by using close()"
   ]
  },
  {
   "cell_type": "code",
   "execution_count": 6,
   "id": "6335cab7-44cf-48f1-a6c7-499580383f8a",
   "metadata": {},
   "outputs": [],
   "source": [
    "f.close() # without using this function we can't see the data in the file "
   ]
  },
  {
   "cell_type": "code",
   "execution_count": 7,
   "id": "40039768-7196-4644-9e66-8fb37b062a30",
   "metadata": {},
   "outputs": [
    {
     "name": "stdout",
     "output_type": "stream",
     "text": [
      "Hello kaise ho \n"
     ]
    }
   ],
   "source": [
    "f = open(\"test.txt\",\"r\")\n",
    "print(f.read())"
   ]
  },
  {
   "cell_type": "code",
   "execution_count": 8,
   "id": "3d761644-218f-4b27-87b4-1e1f150d5b3b",
   "metadata": {},
   "outputs": [],
   "source": [
    "# Q3. Write a python program to create a text file. Write ‘I want to become a Data Scientist’ in that file. Then\n",
    "# close the file. Open this file and read the content of the file.\n",
    "f = open(\"q3.txt\",\"w\")\n",
    "f.write(\"I want to become a Data Scientist\")\n",
    "f.close()\n",
    "f = open(\"q3.txt\",\"r\")\n",
    "data = f.read()"
   ]
  },
  {
   "cell_type": "code",
   "execution_count": 9,
   "id": "d9764982-6ce9-46ab-bc36-c997c0bb5090",
   "metadata": {},
   "outputs": [
    {
     "data": {
      "text/plain": [
       "'I want to become a Data Scientist'"
      ]
     },
     "execution_count": 9,
     "metadata": {},
     "output_type": "execute_result"
    }
   ],
   "source": [
    "data"
   ]
  },
  {
   "cell_type": "code",
   "execution_count": 12,
   "id": "b1ae2cd5-00b8-421d-9f18-3a5940c58b7e",
   "metadata": {},
   "outputs": [],
   "source": [
    "# Q4. Explain the following with python code: read(), readline() and readlines().\n",
    "#Answer: Actually all the three function read(), readline() and readlines() are used to read the data from a file. But behaviour of all \n",
    "        # three functions are different. \n",
    "        # 1. read() is used to read the complete data of file at once.\n",
    "        # 2. readline is used to read the data of file line by line e.g if we call readline once it reads only first line of the file now \n",
    "        #  if we call again the readline() function it reads the second line of the file and so on .\n",
    "        # 3. readlines() function is also used to read the data from a file but readlines() funtions will return all the lines in a file\n",
    "        # in the format of a list where each element is a line in the file\n",
    "#Example\n",
    "f = open(\"q4.txt\",\"w\")\n",
    "f.write(\"This is my frist line \\nThis is my second line \\nThis is my third line\")\n",
    "f.close()"
   ]
  },
  {
   "cell_type": "code",
   "execution_count": 14,
   "id": "a0a27d79-5193-4ac7-a0df-5e6be3317877",
   "metadata": {},
   "outputs": [],
   "source": [
    "f = open(\"q4.txt\",\"r\")"
   ]
  },
  {
   "cell_type": "code",
   "execution_count": 18,
   "id": "85159da8-4e85-4afa-972e-cc38c64f98bc",
   "metadata": {},
   "outputs": [
    {
     "data": {
      "text/plain": [
       "'This is my frist line \\nThis is my second line \\nThis is my third line'"
      ]
     },
     "execution_count": 18,
     "metadata": {},
     "output_type": "execute_result"
    }
   ],
   "source": [
    "f.read() #this read the whole data of the file and return it"
   ]
  },
  {
   "cell_type": "code",
   "execution_count": 19,
   "id": "dee7605e-96a3-4699-908a-fde71a83b7b2",
   "metadata": {},
   "outputs": [
    {
     "data": {
      "text/plain": [
       "0"
      ]
     },
     "execution_count": 19,
     "metadata": {},
     "output_type": "execute_result"
    }
   ],
   "source": [
    "f.seek(0)"
   ]
  },
  {
   "cell_type": "code",
   "execution_count": 20,
   "id": "48370635-71b9-4bfa-b403-49685ed4f59c",
   "metadata": {},
   "outputs": [
    {
     "data": {
      "text/plain": [
       "'This is my frist line \\n'"
      ]
     },
     "execution_count": 20,
     "metadata": {},
     "output_type": "execute_result"
    }
   ],
   "source": [
    "f.readline() #first time it only return first line "
   ]
  },
  {
   "cell_type": "code",
   "execution_count": 21,
   "id": "2269b3a8-47b8-45c5-8643-2afe07b9fd1c",
   "metadata": {},
   "outputs": [
    {
     "data": {
      "text/plain": [
       "'This is my second line \\n'"
      ]
     },
     "execution_count": 21,
     "metadata": {},
     "output_type": "execute_result"
    }
   ],
   "source": [
    "f.readline() #second time it only return second line "
   ]
  },
  {
   "cell_type": "code",
   "execution_count": 22,
   "id": "1c46c16a-2abc-4139-a3de-d74f3060cffc",
   "metadata": {},
   "outputs": [
    {
     "data": {
      "text/plain": [
       "'This is my third line'"
      ]
     },
     "execution_count": 22,
     "metadata": {},
     "output_type": "execute_result"
    }
   ],
   "source": [
    "f.readline() #third time it only return third line i.e. it reads the data line by line from the file"
   ]
  },
  {
   "cell_type": "code",
   "execution_count": 23,
   "id": "cdf4c6bd-8d81-4c7f-a912-cc4d762cc642",
   "metadata": {},
   "outputs": [
    {
     "data": {
      "text/plain": [
       "0"
      ]
     },
     "execution_count": 23,
     "metadata": {},
     "output_type": "execute_result"
    }
   ],
   "source": [
    "f.seek(0)"
   ]
  },
  {
   "cell_type": "code",
   "execution_count": 24,
   "id": "e7cacdd5-e3ac-4ca2-9bb8-ce15e685a7e8",
   "metadata": {},
   "outputs": [
    {
     "data": {
      "text/plain": [
       "['This is my frist line \\n',\n",
       " 'This is my second line \\n',\n",
       " 'This is my third line']"
      ]
     },
     "execution_count": 24,
     "metadata": {},
     "output_type": "execute_result"
    }
   ],
   "source": [
    "f.readlines() #it return a list where each elements of the list is a single line of the file "
   ]
  },
  {
   "cell_type": "code",
   "execution_count": 28,
   "id": "70a96dd5-c283-4185-a3da-7223ced54631",
   "metadata": {},
   "outputs": [],
   "source": [
    "# Q5. Explain why with statement is used with open(). What is the advantage of using with statement and\n",
    "# open() together?\n",
    "#Answer: The with statement works with the open() function to open a file. If we use only open() function then we have to close the \n",
    "         # file with the help of close() method/function but if we use with statement with the open() function then it will closes the\n",
    "         # file for us without telling us .\n",
    "         # This is because the with statement calls 2 built-in methods behind the scene __enter__() and __exit__(). These methods are \n",
    "         # known as magic methods. The  __exit__() method closes the file when the operation we specify is done .\n",
    "#Example\n",
    "with open(\"q5.txt\",\"w\") as f:\n",
    "    f.write(\"This is question five\")                  #with automatically close the file and data will save in the file "
   ]
  },
  {
   "cell_type": "code",
   "execution_count": 29,
   "id": "d927db3b-c36d-4a5c-9cd6-77312c1682d3",
   "metadata": {},
   "outputs": [
    {
     "name": "stdout",
     "output_type": "stream",
     "text": [
      "This is question five\n"
     ]
    }
   ],
   "source": [
    "with open(\"q5.txt\",\"r\") as f:\n",
    "    print(f.read())             # same with statement close the file automatically after complete the operation specify by us i.e read\n",
    "                                # operation"
   ]
  },
  {
   "cell_type": "code",
   "execution_count": 30,
   "id": "063869f5-761c-4752-b61d-d8926d648d44",
   "metadata": {},
   "outputs": [],
   "source": [
    "# Q6. Explain the write() and writelines() functions. Give a suitable example.\n",
    "#Answer : Both functions are used to write data into a opened file but the main difference is that the write funtion is used to write a \n",
    "        # string to an already opened file while the writelines() function is used to write a list of strins in an already opnened file.\n",
    "#Example \n",
    "with open(\"q6.txt\",\"w\") as f:\n",
    "    f.write(\"Hello kasie ho \")"
   ]
  },
  {
   "cell_type": "code",
   "execution_count": 31,
   "id": "f8b94e9a-8b8c-4ca2-8f40-67420d8d48e0",
   "metadata": {},
   "outputs": [],
   "source": [
    "with open(\"q61.txt\",\"w\") as f :\n",
    "    f.writelines([\"Ram\", \"shayam\", \"sita\"])  # this is take list as an arguments . list/tuple we can pass anything "
   ]
  },
  {
   "cell_type": "code",
   "execution_count": 32,
   "id": "ccf434b8-3eeb-4d46-9b2b-fd00e8c73b17",
   "metadata": {},
   "outputs": [
    {
     "ename": "TypeError",
     "evalue": "write() argument must be str, not list",
     "output_type": "error",
     "traceback": [
      "\u001b[0;31m---------------------------------------------------------------------------\u001b[0m",
      "\u001b[0;31mTypeError\u001b[0m                                 Traceback (most recent call last)",
      "Cell \u001b[0;32mIn[32], line 3\u001b[0m\n\u001b[1;32m      1\u001b[0m \u001b[38;5;66;03m# but if we tries to pass list in write () function it throw an error\u001b[39;00m\n\u001b[1;32m      2\u001b[0m \u001b[38;5;28;01mwith\u001b[39;00m \u001b[38;5;28mopen\u001b[39m(\u001b[38;5;124m\"\u001b[39m\u001b[38;5;124mq61.txt\u001b[39m\u001b[38;5;124m\"\u001b[39m,\u001b[38;5;124m\"\u001b[39m\u001b[38;5;124mw\u001b[39m\u001b[38;5;124m\"\u001b[39m) \u001b[38;5;28;01mas\u001b[39;00m f :\n\u001b[0;32m----> 3\u001b[0m     \u001b[43mf\u001b[49m\u001b[38;5;241;43m.\u001b[39;49m\u001b[43mwrite\u001b[49m\u001b[43m(\u001b[49m\u001b[43m[\u001b[49m\u001b[38;5;124;43m\"\u001b[39;49m\u001b[38;5;124;43mRam\u001b[39;49m\u001b[38;5;124;43m\"\u001b[39;49m\u001b[43m,\u001b[49m\u001b[43m \u001b[49m\u001b[38;5;124;43m\"\u001b[39;49m\u001b[38;5;124;43mshayam\u001b[39;49m\u001b[38;5;124;43m\"\u001b[39;49m\u001b[43m,\u001b[49m\u001b[43m \u001b[49m\u001b[38;5;124;43m\"\u001b[39;49m\u001b[38;5;124;43msita\u001b[39;49m\u001b[38;5;124;43m\"\u001b[39;49m\u001b[43m]\u001b[49m\u001b[43m)\u001b[49m\n",
      "\u001b[0;31mTypeError\u001b[0m: write() argument must be str, not list"
     ]
    }
   ],
   "source": [
    "# but if we tries to pass list in write () function it throw an error\n",
    "with open(\"q61.txt\",\"w\") as f :\n",
    "    f.write([\"Ram\", \"shayam\", \"sita\"])"
   ]
  },
  {
   "cell_type": "code",
   "execution_count": null,
   "id": "b08f0dfe-3609-4cdb-b1e1-40aa36289e39",
   "metadata": {},
   "outputs": [],
   "source": [
    "# they said arguments must be an string not an list "
   ]
  }
 ],
 "metadata": {
  "kernelspec": {
   "display_name": "Python 3 (ipykernel)",
   "language": "python",
   "name": "python3"
  },
  "language_info": {
   "codemirror_mode": {
    "name": "ipython",
    "version": 3
   },
   "file_extension": ".py",
   "mimetype": "text/x-python",
   "name": "python",
   "nbconvert_exporter": "python",
   "pygments_lexer": "ipython3",
   "version": "3.10.8"
  }
 },
 "nbformat": 4,
 "nbformat_minor": 5
}
