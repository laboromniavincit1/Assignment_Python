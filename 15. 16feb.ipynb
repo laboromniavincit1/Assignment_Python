{
 "cells": [
  {
   "cell_type": "code",
   "execution_count": null,
   "id": "64dfd4ea-c86b-43ec-8351-681ebb796121",
   "metadata": {},
   "outputs": [],
   "source": [
    "# Q1. What is a database? Differentiate between SQL and NoSQL databases.\n",
    "# Answer: Database is the collection of organized data that is structured  or unstructured and stored electronically on a computer system. Databases can store\n",
    "#         data in the form of  tables depending upon the type of database. The database's are used to store a huge amount of data.\n",
    "#         SQL databases are table-based databases, whereas NoSQL databases can be document-based, key-value pairs, and graph databases.\n",
    "#         SQL databases have a predefined schema, whereas NoSQL databases use a dynamic schema for unstructured data.\n",
    "#         SQL requires specialized DB hardware for better performance while NoSQL uses commodity hardware.\n",
    "\n",
    "# Q2. What is DDL? Explain why CREATE, DROP, ALTER, and TRUNCATE are used with an example. \n",
    "# Answer : DDL stand for Data Definition Language. DDL consist of Commands to commands like CREATE, ALTER, TRUNCATE and DROP. These commands are used to create\n",
    "#          or modify the tables in SQL.\n",
    "#          CREATE: The CREATE command is used to create a new database, table.  Example :: CREATE TABLE Students (id INT, name VARCHAR(50));\n",
    "#          DROP: The DROP command is used to delete a database, table.          Example :: DROP TABLE Students;\n",
    "#          ALTER: The ALTER command is used to modify the structure of an existing database object. Example :: ALTER TABLE Students ADD COLUMN age INT;\n",
    "#          TRUNCATE: TRUNCATE command is used to delete all the data from a table while keeping the table structure intact. Example :: TRUNCATE TABLE Students;\n",
    "\n",
    "# Q3. What is DML? Explain INSERT, UPDATE, and DELETE with an example.\n",
    "# Answer : DML stands for Data Manipulation Language. The DML commands in SQL change the data present in the SQL database.\n",
    "#          INSERT: INSERT command is used to add new records into a database table.           Example : INSERT INTO Employees (id, name, age, salary) VALUES (1, 'John Doe', 30, 50000);\n",
    "#          UPDATE: UPDATE command is used to modify existing records in a database table.   Example : UPDATE Employees SET salary = 55000 WHERE id = 1;\n",
    "#          DELETE: DELETE command is used to remove specific records from a database table. Example : DELETE FROM Employees WHERE id = 1;\n",
    "\n",
    "# Q4. What is DQL? Explain SELECT with an example.\n",
    "# Answer : DQL stand for Data Query Language. DQL is used for retrieving data from a database.\n",
    "#          SELECT : SELECT command is used in DQL to fetch specific data from a table. Example : SELECT Name FROM Employees WHERE Salary > 5000;\n",
    "\n",
    "# Q5. Explain Primary Key and Foreign Key.\n",
    "# Answer : A primary key is a unique identifier for each record in a database table that ensures its uniqueness and serves as a reference for other tables. \n",
    "#          A foreign key, on the other hand, is a field in a table that establishes a link to the primary key of another table, creating a relationship between the two tables.\n",
    "\n",
    "# Q6. Write a python code to connect MySQL to python. Explain the cursor() and execute() method.\n",
    "# Answer : \n",
    "import mysql.connector\n",
    "\n",
    "mydb = mysql.connector.connect(\n",
    "    host = \"localhost\",\n",
    "    user = \"abc\",\n",
    "    password = \"password\"\n",
    ")\n",
    "mycursor = mydb.cursor()\n",
    "mycursor.execute(\"CREATE DATABASE test1\")\n",
    "\n",
    "# The cursor() method is used to create a cursor object, which allows us to interact with the database.It provides methods to execute SQL queries\n",
    "# The execute() method is used on the cursor object to execute an SQL query. It takes the SQL query as a parameter and can be used to perform \n",
    "# database operations like INSERT, UPDATE, DELETE, or SELECT, returning the result if applicable.\n",
    "\n",
    "# Q7. Give the order of execution of SQL clauses in an SQL query.\n",
    "# Answer : The order of execution of clauses in an SQL query typically follows this sequence: FROM, WHERE, GROUP BY, HAVING, SELECT, ORDER BY."
   ]
  }
 ],
 "metadata": {
  "kernelspec": {
   "display_name": "Python 3 (ipykernel)",
   "language": "python",
   "name": "python3"
  },
  "language_info": {
   "codemirror_mode": {
    "name": "ipython",
    "version": 3
   },
   "file_extension": ".py",
   "mimetype": "text/x-python",
   "name": "python",
   "nbconvert_exporter": "python",
   "pygments_lexer": "ipython3",
   "version": "3.10.8"
  }
 },
 "nbformat": 4,
 "nbformat_minor": 5
}
