{
 "cells": [
  {
   "cell_type": "code",
   "execution_count": 15,
   "id": "8861a918-f3a3-42b3-9d65-fdc510839333",
   "metadata": {},
   "outputs": [],
   "source": [
    "# Q1. Create a python program to sort the given list of tuples based on integer value using a\n",
    "# lambda function.\n",
    "# [('Sachin Tendulkar', 34357), ('Ricky Ponting', 27483), ('Jack Kallis', 25534), ('Virat Kohli', 24936)]\n",
    "# Answer : \n",
    "record = [('Sachin Tendulkar', 34357), ('Ricky Ponting', 27483), ('Jack Kallis', 25534), ('Virat Kohli', 24936)]\n",
    "record.sort(key =  lambda x: x[1])"
   ]
  },
  {
   "cell_type": "code",
   "execution_count": 16,
   "id": "a4215b37-006a-49f0-b3a8-b6ebab850c8d",
   "metadata": {},
   "outputs": [
    {
     "data": {
      "text/plain": [
       "[('Virat Kohli', 24936),\n",
       " ('Jack Kallis', 25534),\n",
       " ('Ricky Ponting', 27483),\n",
       " ('Sachin Tendulkar', 34357)]"
      ]
     },
     "execution_count": 16,
     "metadata": {},
     "output_type": "execute_result"
    }
   ],
   "source": [
    "record"
   ]
  },
  {
   "cell_type": "code",
   "execution_count": 18,
   "id": "e2c74462-bcd8-42bc-9d8d-62f21b112f60",
   "metadata": {},
   "outputs": [
    {
     "data": {
      "text/plain": [
       "[1, 4, 9, 16, 25, 36, 49, 64, 81, 100]"
      ]
     },
     "execution_count": 18,
     "metadata": {},
     "output_type": "execute_result"
    }
   ],
   "source": [
    "# Q2. Write a Python Program to find the squares of all the numbers in the given list of integers using\n",
    "# lambda and map functions. [1, 2, 3, 4, 5, 6, 7, 8, 9, 10]\n",
    "# Answer:  \n",
    "l = [1, 2, 3, 4, 5, 6, 7, 8, 9, 10]\n",
    "list(map(lambda x : x**2, l))"
   ]
  },
  {
   "cell_type": "code",
   "execution_count": 19,
   "id": "28dfdc35-5b9a-413e-a259-3a579fcef8a1",
   "metadata": {},
   "outputs": [
    {
     "data": {
      "text/plain": [
       "['1', '2', '3', '4', '5', '6', '7', '8', '9', '10']"
      ]
     },
     "execution_count": 19,
     "metadata": {},
     "output_type": "execute_result"
    }
   ],
   "source": [
    "# Q3. Write a python program to convert the given list of integers into a tuple of strings. Use map and\n",
    "# lambda functions\n",
    "# Given String: [1, 2, 3, 4, 5, 6, 7, 8, 9, 10]\n",
    "# Expected output: ('1', '2', '3', '4', '5', '6', '7', '8', '9', '10')\n",
    "# Answer :\n",
    "l2 = [1, 2, 3, 4, 5, 6, 7, 8, 9, 10]\n",
    "list(map(lambda x: str(x), l2))"
   ]
  },
  {
   "cell_type": "code",
   "execution_count": 26,
   "id": "3cd802a6-3a1d-4347-8cfd-02500a394f7f",
   "metadata": {},
   "outputs": [
    {
     "data": {
      "text/plain": [
       "15511210043330985984000000"
      ]
     },
     "execution_count": 26,
     "metadata": {},
     "output_type": "execute_result"
    }
   ],
   "source": [
    "# Q4. Write a python program using reduce function to compute the product of a list containing numbers\n",
    "# from 1 to 25.\n",
    "# Answer :\n",
    "from functools import reduce\n",
    "l3 = [i for i in range (1, 26)]\n",
    "reduce(lambda x,y : x*y, l3)"
   ]
  },
  {
   "cell_type": "code",
   "execution_count": 30,
   "id": "14e0cfd1-0269-4438-b73c-8d72696a2cef",
   "metadata": {},
   "outputs": [
    {
     "data": {
      "text/plain": [
       "[6, 60, 90, 120]"
      ]
     },
     "execution_count": 30,
     "metadata": {},
     "output_type": "execute_result"
    }
   ],
   "source": [
    "# Q5. Write a python program to filter the numbers in a given list that are divisible by 2 and 3 using the\n",
    "# filter function.\n",
    "# [2, 3, 6, 9, 27, 60, 90, 120, 55, 46]\n",
    "# Answer :\n",
    "l4 = [2, 3, 6, 9, 27, 60, 90, 120, 55, 46]\n",
    "list(filter( lambda x:x if (x%2 == 0 and x%3 ==0) else None , l4))"
   ]
  },
  {
   "cell_type": "code",
   "execution_count": 33,
   "id": "1f029b12-f1dd-414f-aa4d-42e527377f8a",
   "metadata": {},
   "outputs": [
    {
     "data": {
      "text/plain": [
       "['php', 'aba', 'radar', 'level']"
      ]
     },
     "execution_count": 33,
     "metadata": {},
     "output_type": "execute_result"
    }
   ],
   "source": [
    "# Q6. Write a python program to find palindromes in the given list of strings using lambda and filter\n",
    "# function.\n",
    "# ['python', 'php', 'aba', 'radar', 'level']\n",
    "l5 = ['python', 'php', 'aba', 'radar', 'level']\n",
    "list(filter(lambda x:x if x == x[::-1] else None , l5))"
   ]
  },
  {
   "cell_type": "code",
   "execution_count": null,
   "id": "4bf988c5-f0f8-4295-b847-cb258d4aa5f6",
   "metadata": {},
   "outputs": [],
   "source": []
  }
 ],
 "metadata": {
  "kernelspec": {
   "display_name": "Python 3 (ipykernel)",
   "language": "python",
   "name": "python3"
  },
  "language_info": {
   "codemirror_mode": {
    "name": "ipython",
    "version": 3
   },
   "file_extension": ".py",
   "mimetype": "text/x-python",
   "name": "python",
   "nbconvert_exporter": "python",
   "pygments_lexer": "ipython3",
   "version": "3.10.8"
  }
 },
 "nbformat": 4,
 "nbformat_minor": 5
}
