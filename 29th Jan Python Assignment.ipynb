{
 "cells": [
  {
   "cell_type": "code",
   "execution_count": null,
   "id": "67fb0b2d",
   "metadata": {},
   "outputs": [],
   "source": [
    "# Questiion 1 :\n",
    "#             Answer : Guido van Rossum\n",
    "# Question 2 : \n",
    "#             Answer : Python suppports Object-oriented programming and structured programming . Python is also a scripting langugage.\n",
    "# Question 3 :\n",
    "#             Answer : Yes \n",
    "# Question 4 : \n",
    "#             Ansewer : .py\n",
    "# Question 5 : \n",
    "#             Ansewer : Interpreted\n",
    "# Question 6 : \n",
    "#             Ansewer :Indentation is used to define a block of code in python\n",
    "# Question 7 : \n",
    "#             Ansewer : # is used to give single line comment in python\n",
    "# Question 8 : \n",
    "#             Ansewer : from sys module sys.version function is used to find the version of python \n",
    "# Question 9 : \n",
    "#             Ansewer :lambda function\n",
    "# Question 10 : \n",
    "#             Ansewer :preferred installer program that is used in python to install , remove or reinstall package .\n",
    "#                      pip is a package managemnt tool for python like yum for linux, apt for debian and pacman for arch \n",
    "#Question 11 : \n",
    "#             Ansewer : print(),len(),int(),float(),str(),count(),append(),pop(),remove(),insert(),max(),min() and much more \n",
    "#Question 12 : \n",
    "#             Ansewer :Identifiers can be of any length.\n",
    "#Question 13 : \n",
    "#             Ansewer : Python is a easy to learn and use high level langugae \n",
    "#                       we can use python in various fields like web development , data science , robotics, AI, ML,embedded programming , Security and penetration testing, \n",
    "#                       python is free and open source and it has a vast libraries support and much more \n",
    "#Question 14 : \n",
    "#             Ansewer : Memory management in Python involves a private heap containing all Python objects and data structures. The management of this private heap is ensured internally by the Python memory manager.\n",
    "#Question 15 : \n",
    "#             Ansewer :first downlaod python for windows from python.org and then install by clikcing next and next\n",
    "#                      go to the location where you installed the python and copy the bin folder location                      \n",
    "#                       now searh for environmnet variables in search bar in windows and the go to the system variable and edit the path and click on new and paste the copied path and click on OK\n",
    "#Question 16 : \n",
    "#             Ansewer : Yes            "
   ]
  }
 ],
 "metadata": {
  "kernelspec": {
   "display_name": "Python 3 (ipykernel)",
   "language": "python",
   "name": "python3"
  },
  "language_info": {
   "codemirror_mode": {
    "name": "ipython",
    "version": 3
   },
   "file_extension": ".py",
   "mimetype": "text/x-python",
   "name": "python",
   "nbconvert_exporter": "python",
   "pygments_lexer": "ipython3",
   "version": "3.9.13"
  }
 },
 "nbformat": 4,
 "nbformat_minor": 5
}
