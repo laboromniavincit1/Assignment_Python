{
 "cells": [
  {
   "cell_type": "code",
   "execution_count": 3,
   "id": "ef28a7eb-ba00-4793-b6be-89e62f04965f",
   "metadata": {},
   "outputs": [],
   "source": [
    "#Q1. Which keyword is used to create a function? Create a function to return a list of odd numbers in the\n",
    "#range of 1 to 25."
   ]
  },
  {
   "cell_type": "code",
   "execution_count": 5,
   "id": "003b3e8c-0d1b-4a00-9a67-227e7cf65921",
   "metadata": {},
   "outputs": [
    {
     "data": {
      "text/plain": [
       "[1, 3, 5, 7, 9, 11, 13, 15, 17, 19, 21, 23, 25]"
      ]
     },
     "execution_count": 5,
     "metadata": {},
     "output_type": "execute_result"
    }
   ],
   "source": [
    "#Answer: def keyword is used to create a function in python language\n",
    "def oddNum():\n",
    "    l = []\n",
    "    for i in range(26):\n",
    "        if i % 2 != 0:\n",
    "            l.append(i)\n",
    "    return l\n",
    "oddNum()"
   ]
  },
  {
   "cell_type": "code",
   "execution_count": 6,
   "id": "156cf8a2-6c04-4edc-aa7c-c12b393e8fce",
   "metadata": {},
   "outputs": [],
   "source": [
    "#Q2. Why *args and **kwargs is used in some functions? Create a function each for *args and **kwargs\n",
    "# to demonstrate their use."
   ]
  },
  {
   "cell_type": "code",
   "execution_count": 10,
   "id": "ad4f2eb0-6afb-4f73-827e-2b41ee3abc66",
   "metadata": {},
   "outputs": [
    {
     "data": {
      "text/plain": [
       "(1, 'hello')"
      ]
     },
     "execution_count": 10,
     "metadata": {},
     "output_type": "execute_result"
    }
   ],
   "source": [
    "#Answer: *args is used for dynamic arguments like if we want to pass some(no. of arguments are not fixed) arguments in the fucntion defination \n",
    "# then we use * args\n",
    "#                                         OR\n",
    "# if the no. of arguments is not fixed in the function defination we use *args .\n",
    "# args is not a keywords we can use any name after * sybmol like *test, *bug , *hello anything we can use insted of args but we have to \n",
    "# use * before the argument name\n",
    "#Example\n",
    "def test(*args):\n",
    "    return args\n",
    "test(1,\"hello\")\n"
   ]
  },
  {
   "cell_type": "code",
   "execution_count": 11,
   "id": "0677842f-fdbf-472b-8e4c-23003613d61e",
   "metadata": {},
   "outputs": [
    {
     "data": {
      "text/plain": [
       "(1, 2, 3, 4)"
      ]
     },
     "execution_count": 11,
     "metadata": {},
     "output_type": "execute_result"
    }
   ],
   "source": [
    "test(1,2,3,4)"
   ]
  },
  {
   "cell_type": "code",
   "execution_count": 12,
   "id": "017d05af-2c88-492f-aa23-de1ac550f491",
   "metadata": {},
   "outputs": [
    {
     "data": {
      "text/plain": [
       "(1, 2)"
      ]
     },
     "execution_count": 12,
     "metadata": {},
     "output_type": "execute_result"
    }
   ],
   "source": [
    "test(1,2) # now we can pass any no. of argumetns in the function call"
   ]
  },
  {
   "cell_type": "code",
   "execution_count": 14,
   "id": "a6277772-e6a8-4ebd-ab72-1090635d10b7",
   "metadata": {},
   "outputs": [
    {
     "data": {
      "text/plain": [
       "{'a': 1, 'b': 2}"
      ]
     },
     "execution_count": 14,
     "metadata": {},
     "output_type": "execute_result"
    }
   ],
   "source": [
    "#Answer: Same if the no. of arguments are not fixed in the function defination but arguments are in the form of key value pair then we use **args\n",
    "# and we can use any name instead of args but we have to use ** before the name like ** helo, **pet , **ram etc\n",
    "# Example \n",
    "def test1(**args):\n",
    "    return args\n",
    "test1(a=1,b=2)"
   ]
  },
  {
   "cell_type": "code",
   "execution_count": 19,
   "id": "dca967b2-4467-41ca-a2d4-08b9cc2e2fae",
   "metadata": {},
   "outputs": [
    {
     "data": {
      "text/plain": [
       "{'a': 'ram', 'b': 'shayam', 'c': 'rani'}"
      ]
     },
     "execution_count": 19,
     "metadata": {},
     "output_type": "execute_result"
    }
   ],
   "source": [
    "test1(a=\"ram\",b=\"shayam\",c=\"rani\") # we can pass any no of key value pair in defination call "
   ]
  },
  {
   "cell_type": "code",
   "execution_count": 35,
   "id": "fcc1ea39-40a9-4798-ab5e-ef9ec1315cac",
   "metadata": {},
   "outputs": [
    {
     "name": "stdout",
     "output_type": "stream",
     "text": [
      "2\n",
      "4\n",
      "6\n",
      "8\n",
      "10\n"
     ]
    }
   ],
   "source": [
    "# Q3. What is an iterator in python? Name the method used to initialise the iterator object and the method\n",
    "# used for iteration. Use these methods to print the first five elements of the given list [2, 4, 6, 8, 10, 12, 14,\n",
    "# 16, 18, 20].\n",
    "# Answer: Iterator is an object that is used to iterate the iterable object like list, dict, string etc. iter() method is used to \n",
    "# initialize the inerator object in python and next() method is used for iteration. \n",
    "list = [2, 4, 6, 8, 10, 12, 14, 16, 18, 20]\n",
    "it = iter(list)\n",
    "i=0\n",
    "while (i < 5):\n",
    "    print(next(it))\n",
    "    i+=1\n"
   ]
  },
  {
   "cell_type": "code",
   "execution_count": 36,
   "id": "bddb47ec-e8f4-4c07-936d-08939a0c0dff",
   "metadata": {},
   "outputs": [
    {
     "data": {
      "text/plain": [
       "2"
      ]
     },
     "execution_count": 36,
     "metadata": {},
     "output_type": "execute_result"
    }
   ],
   "source": [
    "list = [2, 4, 6, 8, 10, 12, 14, 16, 18, 20]\n",
    "it = iter(list)\n",
    "next(it)"
   ]
  },
  {
   "cell_type": "code",
   "execution_count": 37,
   "id": "18e684fb-f6e1-4d8f-bd7f-534b3d657f38",
   "metadata": {},
   "outputs": [
    {
     "data": {
      "text/plain": [
       "4"
      ]
     },
     "execution_count": 37,
     "metadata": {},
     "output_type": "execute_result"
    }
   ],
   "source": [
    "next(it)"
   ]
  },
  {
   "cell_type": "code",
   "execution_count": 38,
   "id": "74d32e77-ff42-423e-bb5a-95caf914d4c8",
   "metadata": {},
   "outputs": [
    {
     "data": {
      "text/plain": [
       "6"
      ]
     },
     "execution_count": 38,
     "metadata": {},
     "output_type": "execute_result"
    }
   ],
   "source": [
    "next(it)"
   ]
  },
  {
   "cell_type": "code",
   "execution_count": 39,
   "id": "9ee57170-f625-42e9-8a86-1c5d43dadc9f",
   "metadata": {},
   "outputs": [
    {
     "data": {
      "text/plain": [
       "8"
      ]
     },
     "execution_count": 39,
     "metadata": {},
     "output_type": "execute_result"
    }
   ],
   "source": [
    "next(it)"
   ]
  },
  {
   "cell_type": "code",
   "execution_count": 40,
   "id": "a1442957-6e5b-40b6-9145-695631c68aef",
   "metadata": {},
   "outputs": [
    {
     "data": {
      "text/plain": [
       "10"
      ]
     },
     "execution_count": 40,
     "metadata": {},
     "output_type": "execute_result"
    }
   ],
   "source": [
    "next(it)"
   ]
  },
  {
   "cell_type": "code",
   "execution_count": 41,
   "id": "fa55d9d1-bc31-4c4e-8893-dc15bfe87896",
   "metadata": {},
   "outputs": [],
   "source": [
    "# Q4. What is a generator function in python? Why yield keyword is used? Give an example of a generator function.\n",
    "# Answer: Generator is a specail kind of function in python that is used for memory management. Generator function generates the processed\n",
    "          # data one by one. \n",
    "          # A normal function given a list or a tuple of processed data at onces but a generator gives the data one by one like when a \n",
    "          # function process a data it gives the result and then it process the next data and give next result and so on .\n",
    "          # yield keyword is used to create a generator function in python. if we use yield keyword in any function then the function is \n",
    "          # act like a generator function. yield is look like the return but not the same return keyword only retun once in a fucntion but \n",
    "          # yield function return a generator object instead of return a simple value. \n",
    "# Example"
   ]
  },
  {
   "cell_type": "code",
   "execution_count": 1,
   "id": "38f1178d-055e-403a-b105-b6b6f7af0587",
   "metadata": {},
   "outputs": [],
   "source": [
    "def fab(n):\n",
    "    a,b = 0,1\n",
    "    for i in range (n):\n",
    "        yield a\n",
    "        a,b = b, a+b\n",
    "        "
   ]
  },
  {
   "cell_type": "code",
   "execution_count": 2,
   "id": "58207dd1-04d6-4c09-ba54-14ff06347a74",
   "metadata": {},
   "outputs": [],
   "source": [
    "fab_series = fab(10)"
   ]
  },
  {
   "cell_type": "code",
   "execution_count": 3,
   "id": "6ab303b6-e71d-4e69-9b8c-fea78f174306",
   "metadata": {},
   "outputs": [
    {
     "data": {
      "text/plain": [
       "generator"
      ]
     },
     "execution_count": 3,
     "metadata": {},
     "output_type": "execute_result"
    }
   ],
   "source": [
    "type(fab_series)"
   ]
  },
  {
   "cell_type": "code",
   "execution_count": 4,
   "id": "c1e09035-1a78-4e1d-a3b2-d5a58b17f29e",
   "metadata": {},
   "outputs": [
    {
     "name": "stdout",
     "output_type": "stream",
     "text": [
      "0\n",
      "1\n",
      "1\n",
      "2\n",
      "3\n",
      "5\n",
      "8\n",
      "13\n",
      "21\n",
      "34\n"
     ]
    }
   ],
   "source": [
    "for i in fab_series:\n",
    "    print(i)"
   ]
  },
  {
   "cell_type": "code",
   "execution_count": 5,
   "id": "85f51dc4-d417-456b-9cf3-1498eedac983",
   "metadata": {},
   "outputs": [],
   "source": [
    "# the above code is an example of fibonacci series and in this we use yield keyowrd to make it a generator function"
   ]
  },
  {
   "cell_type": "code",
   "execution_count": 22,
   "id": "6d5cf55a-ba2a-4061-9b66-34a634d16f73",
   "metadata": {},
   "outputs": [],
   "source": [
    "# Q5. Create a generator function for prime numbers less than 1000. Use the next() method to print the\n",
    "# first 20 prime numbers.\n",
    "# Answer : \n",
    "def prime():\n",
    "    for i in range (2,1000):\n",
    "        if i == 2:\n",
    "            yield i\n",
    "        else:\n",
    "            for j in range (2, i):\n",
    "                if i % j == 0:\n",
    "                    break\n",
    "            else:\n",
    "                yield i\n",
    "                    "
   ]
  },
  {
   "cell_type": "code",
   "execution_count": 23,
   "id": "248d287e-94c3-41d8-861b-e1fcde0b0469",
   "metadata": {},
   "outputs": [],
   "source": [
    "primeno = prime()"
   ]
  },
  {
   "cell_type": "code",
   "execution_count": 24,
   "id": "11226b45-ff65-416e-ac7e-867e2b982f62",
   "metadata": {},
   "outputs": [
    {
     "data": {
      "text/plain": [
       "generator"
      ]
     },
     "execution_count": 24,
     "metadata": {},
     "output_type": "execute_result"
    }
   ],
   "source": [
    "type(primeno)"
   ]
  },
  {
   "cell_type": "code",
   "execution_count": 25,
   "id": "1583caf4-daaa-46d1-8459-b8fdb2712bfb",
   "metadata": {},
   "outputs": [
    {
     "data": {
      "text/plain": [
       "2"
      ]
     },
     "execution_count": 25,
     "metadata": {},
     "output_type": "execute_result"
    }
   ],
   "source": [
    "next(primeno)"
   ]
  },
  {
   "cell_type": "code",
   "execution_count": 26,
   "id": "5ef7c3b7-880c-4c44-aab7-24f405b6fbe7",
   "metadata": {},
   "outputs": [
    {
     "data": {
      "text/plain": [
       "3"
      ]
     },
     "execution_count": 26,
     "metadata": {},
     "output_type": "execute_result"
    }
   ],
   "source": [
    "next(primeno)"
   ]
  },
  {
   "cell_type": "code",
   "execution_count": 27,
   "id": "b532ddb8-c3fd-4ff8-9ceb-66a148f87568",
   "metadata": {},
   "outputs": [
    {
     "data": {
      "text/plain": [
       "5"
      ]
     },
     "execution_count": 27,
     "metadata": {},
     "output_type": "execute_result"
    }
   ],
   "source": [
    "next(primeno)"
   ]
  },
  {
   "cell_type": "code",
   "execution_count": 28,
   "id": "6e340684-054c-43b0-94f0-9731a060776b",
   "metadata": {},
   "outputs": [
    {
     "data": {
      "text/plain": [
       "7"
      ]
     },
     "execution_count": 28,
     "metadata": {},
     "output_type": "execute_result"
    }
   ],
   "source": [
    "next(primeno)"
   ]
  },
  {
   "cell_type": "code",
   "execution_count": 29,
   "id": "54fb5e02-4ce4-4135-9c7e-94217efb94f0",
   "metadata": {},
   "outputs": [
    {
     "data": {
      "text/plain": [
       "11"
      ]
     },
     "execution_count": 29,
     "metadata": {},
     "output_type": "execute_result"
    }
   ],
   "source": [
    "next(primeno)"
   ]
  },
  {
   "cell_type": "code",
   "execution_count": 30,
   "id": "5abbc972-ac89-4a74-830e-0b6d2f6ecbdc",
   "metadata": {},
   "outputs": [
    {
     "data": {
      "text/plain": [
       "13"
      ]
     },
     "execution_count": 30,
     "metadata": {},
     "output_type": "execute_result"
    }
   ],
   "source": [
    "next(primeno)"
   ]
  },
  {
   "cell_type": "code",
   "execution_count": 31,
   "id": "93f9c079-c690-4e4f-a676-c7f0e6b00f3b",
   "metadata": {},
   "outputs": [
    {
     "data": {
      "text/plain": [
       "17"
      ]
     },
     "execution_count": 31,
     "metadata": {},
     "output_type": "execute_result"
    }
   ],
   "source": [
    "next(primeno)"
   ]
  },
  {
   "cell_type": "code",
   "execution_count": 32,
   "id": "cafc90a4-2680-4867-93ae-2d54e3f50877",
   "metadata": {},
   "outputs": [
    {
     "data": {
      "text/plain": [
       "19"
      ]
     },
     "execution_count": 32,
     "metadata": {},
     "output_type": "execute_result"
    }
   ],
   "source": [
    "next(primeno)"
   ]
  },
  {
   "cell_type": "code",
   "execution_count": 33,
   "id": "16898f65-4f13-4fb5-87c3-91032d603460",
   "metadata": {},
   "outputs": [
    {
     "data": {
      "text/plain": [
       "23"
      ]
     },
     "execution_count": 33,
     "metadata": {},
     "output_type": "execute_result"
    }
   ],
   "source": [
    "next(primeno)"
   ]
  },
  {
   "cell_type": "code",
   "execution_count": 34,
   "id": "1a8282d7-ab1c-4e93-9e44-994f84f0895d",
   "metadata": {},
   "outputs": [
    {
     "data": {
      "text/plain": [
       "29"
      ]
     },
     "execution_count": 34,
     "metadata": {},
     "output_type": "execute_result"
    }
   ],
   "source": [
    "next(primeno)"
   ]
  },
  {
   "cell_type": "code",
   "execution_count": 35,
   "id": "172e6bfe-233b-4adb-919b-d6ab5aa7aa41",
   "metadata": {},
   "outputs": [
    {
     "data": {
      "text/plain": [
       "31"
      ]
     },
     "execution_count": 35,
     "metadata": {},
     "output_type": "execute_result"
    }
   ],
   "source": [
    "next(primeno)"
   ]
  },
  {
   "cell_type": "code",
   "execution_count": 36,
   "id": "5ca478b6-cecb-489c-be7e-18af216180bc",
   "metadata": {},
   "outputs": [
    {
     "data": {
      "text/plain": [
       "37"
      ]
     },
     "execution_count": 36,
     "metadata": {},
     "output_type": "execute_result"
    }
   ],
   "source": [
    "next(primeno)"
   ]
  },
  {
   "cell_type": "code",
   "execution_count": 37,
   "id": "fe42c662-2a60-472f-b9a2-f3a577e46dbb",
   "metadata": {},
   "outputs": [
    {
     "data": {
      "text/plain": [
       "41"
      ]
     },
     "execution_count": 37,
     "metadata": {},
     "output_type": "execute_result"
    }
   ],
   "source": [
    "next(primeno)"
   ]
  },
  {
   "cell_type": "code",
   "execution_count": 38,
   "id": "f720dc63-1d2e-4c3c-9c62-c0b8023683f8",
   "metadata": {},
   "outputs": [
    {
     "data": {
      "text/plain": [
       "43"
      ]
     },
     "execution_count": 38,
     "metadata": {},
     "output_type": "execute_result"
    }
   ],
   "source": [
    "next(primeno)"
   ]
  },
  {
   "cell_type": "code",
   "execution_count": 39,
   "id": "5d2a27a4-67da-4927-9022-b715447941d5",
   "metadata": {},
   "outputs": [
    {
     "data": {
      "text/plain": [
       "47"
      ]
     },
     "execution_count": 39,
     "metadata": {},
     "output_type": "execute_result"
    }
   ],
   "source": [
    "next(primeno)"
   ]
  },
  {
   "cell_type": "code",
   "execution_count": 40,
   "id": "4090fb01-685b-4306-a19b-6b1a39240a8e",
   "metadata": {},
   "outputs": [
    {
     "data": {
      "text/plain": [
       "53"
      ]
     },
     "execution_count": 40,
     "metadata": {},
     "output_type": "execute_result"
    }
   ],
   "source": [
    "next(primeno)"
   ]
  },
  {
   "cell_type": "code",
   "execution_count": 41,
   "id": "736cc418-8a98-4c44-a1a7-8cd0a92403b6",
   "metadata": {},
   "outputs": [
    {
     "data": {
      "text/plain": [
       "59"
      ]
     },
     "execution_count": 41,
     "metadata": {},
     "output_type": "execute_result"
    }
   ],
   "source": [
    "next(primeno)"
   ]
  },
  {
   "cell_type": "code",
   "execution_count": 42,
   "id": "a92fb8a4-a555-48e2-9404-4d92fe293afe",
   "metadata": {},
   "outputs": [
    {
     "data": {
      "text/plain": [
       "61"
      ]
     },
     "execution_count": 42,
     "metadata": {},
     "output_type": "execute_result"
    }
   ],
   "source": [
    "next(primeno)"
   ]
  },
  {
   "cell_type": "code",
   "execution_count": 43,
   "id": "5053b9e2-baaa-4087-8059-0302d6b8f3b6",
   "metadata": {},
   "outputs": [
    {
     "data": {
      "text/plain": [
       "67"
      ]
     },
     "execution_count": 43,
     "metadata": {},
     "output_type": "execute_result"
    }
   ],
   "source": [
    "next(primeno)"
   ]
  },
  {
   "cell_type": "code",
   "execution_count": 44,
   "id": "57fa0807-7d5f-4e47-9418-e008e6d0f7d3",
   "metadata": {},
   "outputs": [
    {
     "data": {
      "text/plain": [
       "71"
      ]
     },
     "execution_count": 44,
     "metadata": {},
     "output_type": "execute_result"
    }
   ],
   "source": [
    "next(primeno)"
   ]
  },
  {
   "cell_type": "code",
   "execution_count": 45,
   "id": "20004003-082b-4e5d-84fb-e7838727c16d",
   "metadata": {},
   "outputs": [
    {
     "data": {
      "text/plain": [
       "73"
      ]
     },
     "execution_count": 45,
     "metadata": {},
     "output_type": "execute_result"
    }
   ],
   "source": [
    "next(primeno)"
   ]
  },
  {
   "cell_type": "code",
   "execution_count": 46,
   "id": "370099ec-8c3d-4be8-b7a4-ce2d73fc31f7",
   "metadata": {},
   "outputs": [
    {
     "data": {
      "text/plain": [
       "79"
      ]
     },
     "execution_count": 46,
     "metadata": {},
     "output_type": "execute_result"
    }
   ],
   "source": [
    "next(primeno)"
   ]
  },
  {
   "cell_type": "code",
   "execution_count": 47,
   "id": "5fb715f5-30cb-4703-ae22-973e67d44bc3",
   "metadata": {},
   "outputs": [
    {
     "data": {
      "text/plain": [
       "83"
      ]
     },
     "execution_count": 47,
     "metadata": {},
     "output_type": "execute_result"
    }
   ],
   "source": [
    "next(primeno)"
   ]
  },
  {
   "cell_type": "code",
   "execution_count": 48,
   "id": "869621bb-85ac-4329-ab27-1e558b7f3e01",
   "metadata": {},
   "outputs": [
    {
     "data": {
      "text/plain": [
       "89"
      ]
     },
     "execution_count": 48,
     "metadata": {},
     "output_type": "execute_result"
    }
   ],
   "source": [
    "next(primeno)"
   ]
  },
  {
   "cell_type": "code",
   "execution_count": 49,
   "id": "8e0d85c4-fb9b-414f-b78f-efc683bd9b1d",
   "metadata": {},
   "outputs": [
    {
     "data": {
      "text/plain": [
       "97"
      ]
     },
     "execution_count": 49,
     "metadata": {},
     "output_type": "execute_result"
    }
   ],
   "source": [
    "next(primeno)"
   ]
  },
  {
   "cell_type": "code",
   "execution_count": 64,
   "id": "598f4434-1b60-43a0-9a72-6b8e67dcdbe8",
   "metadata": {},
   "outputs": [],
   "source": [
    "# Q6. Write a python program to print the first 10 Fibonacci numbers using a while loop.\n",
    "# Answer: \n",
    "def fabo():\n",
    "    a,b = 0,1\n",
    "    while True:\n",
    "        yield a\n",
    "        a,b = b, a+b\n",
    "        "
   ]
  },
  {
   "cell_type": "code",
   "execution_count": 65,
   "id": "a4038f5e-4fe8-4dff-a74a-77444184993f",
   "metadata": {},
   "outputs": [],
   "source": [
    "fab_test = fabo()"
   ]
  },
  {
   "cell_type": "code",
   "execution_count": 66,
   "id": "c8d2934f-7378-46a5-8f0c-a31f05d6f5b8",
   "metadata": {},
   "outputs": [
    {
     "data": {
      "text/plain": [
       "generator"
      ]
     },
     "execution_count": 66,
     "metadata": {},
     "output_type": "execute_result"
    }
   ],
   "source": [
    "type(fab_test)"
   ]
  },
  {
   "cell_type": "code",
   "execution_count": 67,
   "id": "4857bbf4-38e8-4ccd-8d0b-d655c54d3484",
   "metadata": {},
   "outputs": [
    {
     "name": "stdout",
     "output_type": "stream",
     "text": [
      "0\n",
      "1\n",
      "1\n",
      "2\n",
      "3\n",
      "5\n",
      "8\n",
      "13\n",
      "21\n",
      "34\n"
     ]
    }
   ],
   "source": [
    "for i in range (10):\n",
    "    print(next(fab_test))"
   ]
  },
  {
   "cell_type": "code",
   "execution_count": 68,
   "id": "685d8945-2b94-430c-b3a7-49fccb3e0fe6",
   "metadata": {},
   "outputs": [
    {
     "data": {
      "text/plain": [
       "['p', 'w', 's', 'k', 'i', 'l', 'l', 's']"
      ]
     },
     "execution_count": 68,
     "metadata": {},
     "output_type": "execute_result"
    }
   ],
   "source": [
    "# Q7. Write a List Comprehension to iterate through the given string: ‘pwskills’.\n",
    "# Expected output: ['p', 'w', 's', 'k', 'i', 'l', 'l', 's']\n",
    "# Answer : \n",
    "string = 'pwskills'\n",
    "[i for i in string ]"
   ]
  },
  {
   "cell_type": "code",
   "execution_count": 1,
   "id": "494b3313-1711-4dc3-87d1-612bf77d3c3a",
   "metadata": {},
   "outputs": [
    {
     "name": "stdin",
     "output_type": "stream",
     "text": [
      "Enter number : 121\n"
     ]
    },
    {
     "name": "stdout",
     "output_type": "stream",
     "text": [
      "121\n",
      "Palindrome\n"
     ]
    }
   ],
   "source": [
    "# Q8. Write a python program to check whether a given number is Palindrome or not using a while loop.\n",
    "number = int(input(\"Enter number :\"))\n",
    "rev = 0\n",
    "num = number\n",
    "while (num > 0):\n",
    "    rem = num%10\n",
    "    rev = rev*10 + rem\n",
    "    num = num//10\n",
    "print(rev)\n",
    "if rev == number:\n",
    "    print(\"Palindrome\")\n",
    "else:\n",
    "    print(\" Not Palindrome\")\n",
    " "
   ]
  },
  {
   "cell_type": "code",
   "execution_count": 6,
   "id": "32f2918c-54d7-41c9-8298-bfc5e500a04b",
   "metadata": {},
   "outputs": [],
   "source": [
    "# Q9. Write a code to print odd numbers from 1 to 100 using list comprehension.\n",
    "# Note: Use a list comprehension to create a list from 1 to 100 and use another List comprehension to filter\n",
    "# out odd numbers.\n",
    "list = [i for i in range(1,101)]\n",
    "odd = [ i for i in list if i % 2 != 0]"
   ]
  },
  {
   "cell_type": "code",
   "execution_count": 7,
   "id": "23c39c1d-5f74-4700-ae31-4c45e8bb67d9",
   "metadata": {},
   "outputs": [
    {
     "data": {
      "text/plain": [
       "[1,\n",
       " 3,\n",
       " 5,\n",
       " 7,\n",
       " 9,\n",
       " 11,\n",
       " 13,\n",
       " 15,\n",
       " 17,\n",
       " 19,\n",
       " 21,\n",
       " 23,\n",
       " 25,\n",
       " 27,\n",
       " 29,\n",
       " 31,\n",
       " 33,\n",
       " 35,\n",
       " 37,\n",
       " 39,\n",
       " 41,\n",
       " 43,\n",
       " 45,\n",
       " 47,\n",
       " 49,\n",
       " 51,\n",
       " 53,\n",
       " 55,\n",
       " 57,\n",
       " 59,\n",
       " 61,\n",
       " 63,\n",
       " 65,\n",
       " 67,\n",
       " 69,\n",
       " 71,\n",
       " 73,\n",
       " 75,\n",
       " 77,\n",
       " 79,\n",
       " 81,\n",
       " 83,\n",
       " 85,\n",
       " 87,\n",
       " 89,\n",
       " 91,\n",
       " 93,\n",
       " 95,\n",
       " 97,\n",
       " 99]"
      ]
     },
     "execution_count": 7,
     "metadata": {},
     "output_type": "execute_result"
    }
   ],
   "source": [
    "odd"
   ]
  },
  {
   "cell_type": "code",
   "execution_count": null,
   "id": "e6c8dcd0-962d-492f-9fab-3fbe05ba1410",
   "metadata": {},
   "outputs": [],
   "source": []
  }
 ],
 "metadata": {
  "kernelspec": {
   "display_name": "Python 3 (ipykernel)",
   "language": "python",
   "name": "python3"
  },
  "language_info": {
   "codemirror_mode": {
    "name": "ipython",
    "version": 3
   },
   "file_extension": ".py",
   "mimetype": "text/x-python",
   "name": "python",
   "nbconvert_exporter": "python",
   "pygments_lexer": "ipython3",
   "version": "3.10.8"
  }
 },
 "nbformat": 4,
 "nbformat_minor": 5
}
