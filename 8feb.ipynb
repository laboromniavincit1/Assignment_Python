{
 "cells": [
  {
   "cell_type": "code",
   "execution_count": 25,
   "id": "58682f8e-a499-420f-b622-308afb1e51d0",
   "metadata": {},
   "outputs": [
    {
     "name": "stdout",
     "output_type": "stream",
     "text": [
      "The mileage is 30kmph\n",
      "The mileage is 25kmph\n",
      "Mileage is 40kmph\n"
     ]
    }
   ],
   "source": [
    "# Q1. What is Abstraction in OOps? Explain with an example.\n",
    "#Answer : Abstraction is process of hiding the internal details of an application from the user to handle the complexity. \n",
    "         # Or in simple words Abstraction is used to hinde the internal functionality of the function from the user .\n",
    "         # The user only interact the basic implementation of the fucntion \n",
    "        ## User is familiar with that \"what function does\" but they don't know \"how it does.\"\n",
    "#Example \n",
    "from  abc import ABC , abstractmethod\n",
    "class car(ABC):\n",
    "    @abstractmethod\n",
    "    def mileage(self):\n",
    "        pass\n",
    "\n",
    "class Suzuki(car):\n",
    "    \n",
    "    def mileage (self):\n",
    "        print(\"The mileage is 30kmph\")\n",
    "class Honda (car):\n",
    "    \n",
    "    def mileage (self):\n",
    "         print(\"The mileage is 25kmph\")\n",
    "            \n",
    "class Ducati(car):\n",
    "    \n",
    "    def mileage(self):\n",
    "        print(\"Mileage is 40kmph\")\n",
    "\n",
    "S =  Suzuki()\n",
    "S.mileage()\n",
    "\n",
    "H = Honda()\n",
    "H.mileage()\n",
    "\n",
    "D = Ducati()\n",
    "D.mileage()"
   ]
  },
  {
   "cell_type": "code",
   "execution_count": 26,
   "id": "c4dc3855-1dc7-400a-a88b-732500ae8c0f",
   "metadata": {},
   "outputs": [
    {
     "data": {
      "text/plain": [
       "'Fan speed is 100rpm'"
      ]
     },
     "execution_count": 26,
     "metadata": {},
     "output_type": "execute_result"
    }
   ],
   "source": [
    "# Q2. Differentiate between Abstraction and Encapsulation. Explain with an example.\n",
    "# Answer : Encapsulation is the process of binding the data and functions/methods into a single entity is known as encapsulation\n",
    "         # while hiding the internal details of an application from the user and provide only the basic functionality of the function \n",
    "         # is known as abstraction . \n",
    "# Example\n",
    "# 1. Abstraction \n",
    "from  abc import ABC , abstractmethod\n",
    "class cooler (ABC):\n",
    "    def fanspeed(self):\n",
    "        pass\n",
    "class hindware(cooler):\n",
    "    def fanspeed(self):\n",
    "        return \"Fan speed is 100rpm\"\n",
    "class symphony(cooler):\n",
    "    def fanspeed(self):\n",
    "        return \"Fans speed is 150rpm\"\n",
    "hind = hindware()\n",
    "hind.fanspeed()"
   ]
  },
  {
   "cell_type": "code",
   "execution_count": 27,
   "id": "afb78af9-91ba-46f1-8fca-dbcb56a8fc3e",
   "metadata": {},
   "outputs": [
    {
     "data": {
      "text/plain": [
       "'Fans speed is 150rpm'"
      ]
     },
     "execution_count": 27,
     "metadata": {},
     "output_type": "execute_result"
    }
   ],
   "source": [
    "sym = symphony()\n",
    "sym.fanspeed()"
   ]
  },
  {
   "cell_type": "code",
   "execution_count": 28,
   "id": "8d96c970-08cf-4006-af0f-469404ffc8ee",
   "metadata": {},
   "outputs": [
    {
     "name": "stdout",
     "output_type": "stream",
     "text": [
      "rahul\n",
      "1\n"
     ]
    }
   ],
   "source": [
    "#2. Encapsulation \n",
    "class student():\n",
    "    \n",
    "    def __init__(self,name,rollno):\n",
    "        self.__name = name \n",
    "        self.__rollno = rollno\n",
    "    def student_name(self):\n",
    "        print( self.__name)\n",
    "    def student_rollno(self):\n",
    "        print( self.__rollno)\n",
    "rahul = student(\"rahul\", 1)\n",
    "rahul.student_name()\n",
    "rahul.student_rollno()"
   ]
  },
  {
   "cell_type": "code",
   "execution_count": 29,
   "id": "bc1d38b2-c8db-4830-bd26-592312331136",
   "metadata": {},
   "outputs": [
    {
     "name": "stdout",
     "output_type": "stream",
     "text": [
      "ravina\n",
      "2\n"
     ]
    }
   ],
   "source": [
    "ravina = student(\"ravina\", 2)\n",
    "ravina.student_name()\n",
    "ravina.student_rollno()"
   ]
  },
  {
   "cell_type": "code",
   "execution_count": 9,
   "id": "ecd5a436-4988-42d4-ba61-a0ddd430497c",
   "metadata": {},
   "outputs": [
    {
     "ename": "AttributeError",
     "evalue": "'student' object has no attribute '__name'",
     "output_type": "error",
     "traceback": [
      "\u001b[0;31m---------------------------------------------------------------------------\u001b[0m",
      "\u001b[0;31mAttributeError\u001b[0m                            Traceback (most recent call last)",
      "Cell \u001b[0;32mIn[9], line 2\u001b[0m\n\u001b[1;32m      1\u001b[0m \u001b[38;5;66;03m# if we want to access the rollno and name direct from outside the class it can't be accessed\u001b[39;00m\n\u001b[0;32m----> 2\u001b[0m \u001b[43mrahul\u001b[49m\u001b[38;5;241;43m.\u001b[39;49m\u001b[43m__name\u001b[49m\n",
      "\u001b[0;31mAttributeError\u001b[0m: 'student' object has no attribute '__name'"
     ]
    }
   ],
   "source": [
    "# if we want to access the rollno and name direct from outside the class it can't be accessed\n",
    "rahul.__name     ## is say __name is not defined "
   ]
  },
  {
   "cell_type": "code",
   "execution_count": 30,
   "id": "bb63a27f-cc72-4c3f-a030-427a8d4866d7",
   "metadata": {},
   "outputs": [],
   "source": [
    "#Q3. What is abc module in python? Why is it used?\n",
    "#Answer : abc stands for abstract base class is a class that contains one or more abstract methods.\n",
    "        # An abstract method is a method that is declared but not contains no implemnetation.\n",
    "        # Abstract class may not be instantiated , and its abstarct method must be implemented by its child class\n",
    "        # Purpose of abc is to define how other class should look like. what methods and properties they are expected to have.\n",
    "        # Or in simple words abc is basic structre/skeleton of all its child class. abc is used to define the basic skeleeton of \n",
    "        # for the all classes releated to it or inherited from it ."
   ]
  },
  {
   "cell_type": "code",
   "execution_count": 3,
   "id": "b7fe7558-9aaf-4e8f-8b71-817559608710",
   "metadata": {},
   "outputs": [
    {
     "name": "stdout",
     "output_type": "stream",
     "text": [
      "Color is red\n",
      "Color is Pink\n"
     ]
    }
   ],
   "source": [
    "# Q4. How can we achieve data abstraction?\n",
    "#Answer: Data abstraction can be achieved through creating abstract classes and inheriting them later.\n",
    "#Example\n",
    "from abc import ABC , abstractmethod\n",
    "class colors(ABC):\n",
    "    @abstractmethod\n",
    "    def color(self):\n",
    "        pass\n",
    "class red (colors):\n",
    "    def color(self):\n",
    "        print(\"Color is red\")\n",
    "class pink(colors):\n",
    "    def color(self):\n",
    "        print(\"Color is Pink\")\n",
    "red = red()\n",
    "red.color()\n",
    "\n",
    "pink = pink()\n",
    "pink.color()"
   ]
  },
  {
   "cell_type": "code",
   "execution_count": null,
   "id": "22a42898-bbd2-4689-80b1-99cc9abbab54",
   "metadata": {},
   "outputs": [],
   "source": [
    "# Q5. Can we create an instance of an abstract class? Explain your answer.\n",
    "#Answer : No we can't create an instance of an abstract class because abstract class purpose  is to define how other classes should \n",
    "        # look like i.e what methods and properties they are expected to have .\n",
    "        # Or we can say that abstract class may have some methods that are not defined only decleared. So, we cannot create an instance or \n",
    "        # an object of abstract class."
   ]
  }
 ],
 "metadata": {
  "kernelspec": {
   "display_name": "Python 3 (ipykernel)",
   "language": "python",
   "name": "python3"
  },
  "language_info": {
   "codemirror_mode": {
    "name": "ipython",
    "version": 3
   },
   "file_extension": ".py",
   "mimetype": "text/x-python",
   "name": "python",
   "nbconvert_exporter": "python",
   "pygments_lexer": "ipython3",
   "version": "3.10.8"
  }
 },
 "nbformat": 4,
 "nbformat_minor": 5
}
