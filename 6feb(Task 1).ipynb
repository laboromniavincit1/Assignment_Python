{
 "cells": [
  {
   "cell_type": "code",
   "execution_count": 2,
   "id": "54bcaf86-01d8-4f8f-a477-8a908af7064a",
   "metadata": {},
   "outputs": [
    {
     "name": "stdout",
     "output_type": "stream",
     "text": [
      "[1, 2, 3, 4, 44, 55, 66, 34, 56, 78, 89, 34, 1, 2, 3, 1, 4, 34, 55, 67, 78, 89, 45, 22, 61, 34, 56]\n",
      "4134711838987085478833841242112000\n"
     ]
    }
   ],
   "source": [
    "# Q1. Create a function which will take a list as an argument and return the product of all the numbers\n",
    "# after creating a flat list.\n",
    "# Use the below-given list as an argument for your function.\n",
    "# list1 = [1,2,3,4, [44,55,66, True], False, (34,56,78,89,34), {1,2,3,3,2,1}, {1:34, \"key2\": [55, 67, 78, 89], 4: (45,\n",
    "# 22, 61, 34)}, [56, 'data science'], 'Machine Learning']\n",
    "# Note: you must extract numeric keys and values of the dictionary also.\n",
    "def ExtractNumeric(list1):\n",
    "    new_list = []\n",
    "    product = 1\n",
    "    for i in list1:\n",
    "        if type(i) == list or type(i) == tuple or type(i) == set :\n",
    "            for j in i:\n",
    "                if type(j) == int:\n",
    "                    new_list.append(j)\n",
    "        elif type(i) == dict:\n",
    "            for k in i.keys():\n",
    "                if type(k) == int:\n",
    "                    new_list.append(k)\n",
    "            for v in i.values():\n",
    "                if type(v) == list or type(v) == tuple or type(v) == set:\n",
    "                    for l in v:\n",
    "                        new_list.append(l)\n",
    "                elif (type(v) == int):\n",
    "                    new_list.append(v)\n",
    "        else:\n",
    "            if type(i) == int:\n",
    "                new_list.append(i)\n",
    "    print(new_list)\n",
    "    for a in new_list:\n",
    "        product*=a\n",
    "    return product\n",
    "\n",
    "list1 = [1,2,3,4, \n",
    "         [44,55,66, True],\n",
    "         False,\n",
    "         (34,56,78,89,34),\n",
    "         {1,2,3,3,2,1},\n",
    "         {1:34, \"key2\": [55, 67, 78, 89], 4: (45,22, 61, 34)},\n",
    "         [56, 'data science'],\n",
    "         'Machine Learning']\n",
    "\n",
    "product = ExtractNumeric(list1)\n",
    "print(product)\n",
    "    "
   ]
  },
  {
   "cell_type": "code",
   "execution_count": 6,
   "id": "a143b57a-2b20-4d5e-8f70-d704429569ce",
   "metadata": {},
   "outputs": [
    {
     "name": "stdout",
     "output_type": "stream",
     "text": [
      "r$dzmg$gl$yvxlnv$z$wzgz$hxrvmgrhg.\n"
     ]
    }
   ],
   "source": [
    "# Q2. Write a python program for encrypting a message sent to you by your friend. The logic of encryption\n",
    "# should be such that, for a the output should be z. For b, the output should be y. For c, the output should\n",
    "# be x respectively. Also, the whitespace should be replaced with a dollar sign. Keep the punctuation\n",
    "# marks unchanged.\n",
    "# Input Sentence: I want to become a Data Scientist.\n",
    "# Encrypt the above input sentence using the program you just created.\n",
    "# Note: Convert the given input sentence into lowercase before encrypting. The final output should be\n",
    "# lowercase.\n",
    "def encryption(sentence):\n",
    "    encrypted_message = \"\"\n",
    "    for char in sentence.lower():\n",
    "        if char.isalpha():\n",
    "            encrypted_message += (chr( ord('a') + ord('z') - ord(char) ))\n",
    "        elif char == ' ':\n",
    "            encrypted_message += '$'\n",
    "        else:\n",
    "            encrypted_message += char\n",
    "    return encrypted_message\n",
    "sentence = \"I want to become a Data Scientist.\"\n",
    "encrypt = encryption(sentence)\n",
    "print(encrypt)"
   ]
  },
  {
   "cell_type": "code",
   "execution_count": null,
   "id": "7e2acd80-1597-4a7c-bb11-5bad7159e241",
   "metadata": {},
   "outputs": [],
   "source": []
  }
 ],
 "metadata": {
  "kernelspec": {
   "display_name": "Python 3 (ipykernel)",
   "language": "python",
   "name": "python3"
  },
  "language_info": {
   "codemirror_mode": {
    "name": "ipython",
    "version": 3
   },
   "file_extension": ".py",
   "mimetype": "text/x-python",
   "name": "python",
   "nbconvert_exporter": "python",
   "pygments_lexer": "ipython3",
   "version": "3.10.8"
  }
 },
 "nbformat": 4,
 "nbformat_minor": 5
}
