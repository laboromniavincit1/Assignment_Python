{
 "cells": [
  {
   "cell_type": "code",
   "execution_count": 1,
   "id": "da4ece9d-61f1-4b06-a055-f855ecd82717",
   "metadata": {},
   "outputs": [
    {
     "name": "stdout",
     "output_type": "stream",
     "text": [
      "Red\n"
     ]
    }
   ],
   "source": [
    "# Q1. Explain Class and Object with respect to Object-Oriented Programming. Give a suitable example.\n",
    "# Answer : Class is a blueprint which defines some properties. Object is an instance of a class which has those protperties \n",
    "           # Or in simple words we can say that class is same like as int and object is same like as a integer variable\n",
    "# Example\n",
    "class car:                            #this is the class car which defines the properties of car like color and year of make.\n",
    "    \n",
    "    def color (self):\n",
    "        print(\"Red\")\n",
    "    def makeyear(self):\n",
    "        print(\"2022\")\n",
    "obj_car = car()       # here obj_car is a object of class car \n",
    "obj_car.color()      "
   ]
  },
  {
   "cell_type": "code",
   "execution_count": 4,
   "id": "ca0148af-4fb7-4315-ab71-87c22b7ad176",
   "metadata": {},
   "outputs": [],
   "source": [
    "# Q2. Name the four pillars of OOPs.\n",
    "# Answer: 1. Polymorphism \n",
    "        # 2. Inheritance \n",
    "        # 3. Encapsulation \n",
    "        # 4. Abstraction"
   ]
  },
  {
   "cell_type": "code",
   "execution_count": 38,
   "id": "a141f121-9d8a-42b5-b647-9980354c959f",
   "metadata": {},
   "outputs": [
    {
     "ename": "TypeError",
     "evalue": "car.__init__() missing 3 required positional arguments: 'color', 'year', and 'model'",
     "output_type": "error",
     "traceback": [
      "\u001b[0;31m---------------------------------------------------------------------------\u001b[0m",
      "\u001b[0;31mTypeError\u001b[0m                                 Traceback (most recent call last)",
      "Cell \u001b[0;32mIn[38], line 21\u001b[0m\n\u001b[1;32m     18\u001b[0m     \u001b[38;5;28;01mdef\u001b[39;00m \u001b[38;5;21mget_model\u001b[39m (\u001b[38;5;28mself\u001b[39m):\n\u001b[1;32m     19\u001b[0m         \u001b[38;5;28mprint\u001b[39m(\u001b[38;5;28mself\u001b[39m\u001b[38;5;241m.\u001b[39mmodel)\n\u001b[0;32m---> 21\u001b[0m alto \u001b[38;5;241m=\u001b[39m \u001b[43mcar\u001b[49m\u001b[43m(\u001b[49m\u001b[43m)\u001b[49m     \u001b[38;5;66;03m# this gives error because when we create alto object of class car then first run __init__() method \u001b[39;00m\n\u001b[1;32m     22\u001b[0m                  \u001b[38;5;66;03m# but in init method 3 arguments are needed and we dont give any argument \u001b[39;00m\n",
      "\u001b[0;31mTypeError\u001b[0m: car.__init__() missing 3 required positional arguments: 'color', 'year', and 'model'"
     ]
    }
   ],
   "source": [
    "# Q3. Explain why the __init__() function is used. Give a suitable example.\n",
    "# Answer : __init__() function is used to initialize the object or in other words when we create any object then always the first\n",
    "        # __init__() method runs and initialize the object .\n",
    "# Example\n",
    "class car:\n",
    "    \n",
    "    def __init__(self,color,year,model):\n",
    "        self.color = color\n",
    "        self.year = year \n",
    "        self.model = model\n",
    "    \n",
    "    def get_color (self):\n",
    "         print(self.color)\n",
    "    \n",
    "    def get_year(self):\n",
    "        print(self.year)\n",
    "    \n",
    "    def get_model (self):\n",
    "        print(self.model)\n",
    "\n",
    "alto = car()     # this gives error because when we create alto object of class car then first run __init__() method \n",
    "                 # but in init method 3 arguments are needed and we dont give any argument "
   ]
  },
  {
   "cell_type": "code",
   "execution_count": 39,
   "id": "85989059-d421-4238-bcc7-10640a3d91b1",
   "metadata": {},
   "outputs": [],
   "source": [
    "alto = car(\"red\", 2018, \"alto800\")  # now this obejct is created because we given 3 agruments that are \n",
    "                                     # needed by the __init__() method \n",
    "# so in simple words __init__() is invoked automatically when we tries to create any object ."
   ]
  },
  {
   "cell_type": "code",
   "execution_count": 40,
   "id": "aa136448-7108-4518-b56f-a56b1f227a10",
   "metadata": {},
   "outputs": [
    {
     "name": "stdout",
     "output_type": "stream",
     "text": [
      "red\n"
     ]
    }
   ],
   "source": [
    "alto.get_color()"
   ]
  },
  {
   "cell_type": "code",
   "execution_count": 46,
   "id": "4c143d88-b4ef-4196-9daa-b799a6d2fc73",
   "metadata": {},
   "outputs": [
    {
     "ename": "TypeError",
     "evalue": "test.test1() takes 0 positional arguments but 1 was given",
     "output_type": "error",
     "traceback": [
      "\u001b[0;31m---------------------------------------------------------------------------\u001b[0m",
      "\u001b[0;31mTypeError\u001b[0m                                 Traceback (most recent call last)",
      "Cell \u001b[0;32mIn[46], line 14\u001b[0m\n\u001b[1;32m     12\u001b[0m         \u001b[38;5;28mprint\u001b[39m(\u001b[38;5;124m\"\u001b[39m\u001b[38;5;124msucessfull\u001b[39m\u001b[38;5;124m\"\u001b[39m)\n\u001b[1;32m     13\u001b[0m obj_test \u001b[38;5;241m=\u001b[39m test()\n\u001b[0;32m---> 14\u001b[0m \u001b[43mobj_test\u001b[49m\u001b[38;5;241;43m.\u001b[39;49m\u001b[43mtest1\u001b[49m\u001b[43m(\u001b[49m\u001b[43m)\u001b[49m\n",
      "\u001b[0;31mTypeError\u001b[0m: test.test1() takes 0 positional arguments but 1 was given"
     ]
    }
   ],
   "source": [
    "# Q4. Why self is used in OOPs?\n",
    "# Answer :  self is used to show the class variable. when we use self variable class it represents instance of the class\n",
    "          # self containes the refrence the of the class variable , if we dont use self then class think that varibale is not \n",
    "          # associated with it and when we use self then class think that variablel is associated with class.\n",
    "        # OR\n",
    "        # when we create any object and pass any value through it then the self variable contains the refernce of the value \n",
    "        # and give to the method and say save the given vale here(reference contain by the self variable) \n",
    "# Example\n",
    "class test :\n",
    "    \n",
    "    def test1():\n",
    "        print(\"sucessfull\")\n",
    "obj_test = test()\n",
    "obj_test.test1() # it gives error because it wants 1 argumnet that contains the refernce but we cant give any refernce "
   ]
  },
  {
   "cell_type": "code",
   "execution_count": 47,
   "id": "564b9c75-6a80-4050-a57f-ce7c636a05da",
   "metadata": {},
   "outputs": [
    {
     "name": "stdout",
     "output_type": "stream",
     "text": [
      "sucessfull\n"
     ]
    }
   ],
   "source": [
    "class test :\n",
    "    \n",
    "    def test1(self): # thhis self is containe the refernce \n",
    "        print(\"sucessfull\")\n",
    "obj_test = test()\n",
    "obj_test.test1()"
   ]
  },
  {
   "cell_type": "code",
   "execution_count": 49,
   "id": "558dd856-a1c5-4b9d-9c90-ba724c24ac20",
   "metadata": {},
   "outputs": [
    {
     "name": "stdout",
     "output_type": "stream",
     "text": [
      "sucessfull\n"
     ]
    }
   ],
   "source": [
    "# we can use any word instead of self keyword like\n",
    "# example\n",
    "class test :\n",
    "    \n",
    "    def test1(hello): # we use hello instead of self and it excuted sucessfull\n",
    "        print(\"sucessfull\")\n",
    "obj_test = test()\n",
    "obj_test.test1()"
   ]
  },
  {
   "cell_type": "code",
   "execution_count": 53,
   "id": "92225f08-1e0f-4ad4-bd09-eb3d3f8e8683",
   "metadata": {},
   "outputs": [
    {
     "name": "stdout",
     "output_type": "stream",
     "text": [
      "This is base class\n"
     ]
    }
   ],
   "source": [
    "# Q5. What is inheritance? Give an example for each type of inheritance.\n",
    "# Answer : Inheritance is a  oops concept of acquiring the features and behaviours of a class  by another class. those class\n",
    "         # whose members are inherited is called the base class and the class that inherits those members is callled the drived \n",
    "         # class\n",
    "# example \n",
    "class base:\n",
    "    \n",
    "    def test(self):\n",
    "        print(\"This is base class\")\n",
    "class drived (base):\n",
    "    pass\n",
    "\n",
    "obj = drived()\n",
    "obj.test()  # drived class has no method but it inherit the members of base class and access the test fuction "
   ]
  },
  {
   "cell_type": "code",
   "execution_count": 61,
   "id": "dcb21426-d5d5-4697-bc06-2b8d0d81cf26",
   "metadata": {},
   "outputs": [],
   "source": [
    "# There are five type of inheritance in python \n",
    "# 1. Single Inheritance \n",
    "# 2. Multiple Inheritance \n",
    "# 3. Multilevel Inheritance\n",
    "# 4. Hierarchical Inheritance \n",
    "# 5. Hybrid Inheritance \n",
    "\n",
    "\n",
    "# 1. Single Inheritance \n",
    "class base:\n",
    "    \n",
    "    def test(self):\n",
    "        print(\"This is base class\")\n",
    "class drived (base):\n",
    "    pass\n",
    "\n",
    "# 2. Multiple Inheritance \n",
    "class base1:\n",
    "    \n",
    "    def test1(self):\n",
    "        print(\"This is base1 class\")\n",
    "class base11:\n",
    "    def test11(self):\n",
    "        print(\"This is base11 class\")\n",
    "\n",
    "class drived1 (base1,base11):\n",
    "    pass\n",
    "\n",
    "#3. Multilevel Inheritance\n",
    "class base2:\n",
    "    \n",
    "    def test2(self):\n",
    "        print(\"This is base2 class\")\n",
    "class drived2(base2):\n",
    "    def test2(self):\n",
    "        print(\"This is drived2 class\")\n",
    "\n",
    "class drived21 (drived2):\n",
    "    pass\n",
    "\n",
    "#4. Hierarchical Inheritance \n",
    "class Parent:\n",
    "    def func1(self):\n",
    "        print(\"This is parent class.\")\n",
    "\n",
    "class Child1(Parent):\n",
    "    pass\n",
    "\n",
    "class Child2(Parent):\n",
    "    pass\n",
    "\n",
    "\n",
    "#Hybrid Inheritance\n",
    "class School:\n",
    "    def func1(self):\n",
    "        print(\"This function is in school.\")\n",
    " \n",
    " \n",
    "class Student1(School):\n",
    "    def func2(self):\n",
    "        print(\"This function is in student 1. \")\n",
    " \n",
    " \n",
    "class Student2(School):\n",
    "    def func3(self):\n",
    "        print(\"This function is in student 2.\")\n",
    " \n",
    " \n",
    "class Student3(Student1, School):\n",
    "    def func4(self):\n",
    "        print(\"This function is in student 3.\")\n"
   ]
  },
  {
   "cell_type": "code",
   "execution_count": null,
   "id": "605b82b7-481a-4536-9040-e7071107b160",
   "metadata": {},
   "outputs": [],
   "source": []
  }
 ],
 "metadata": {
  "kernelspec": {
   "display_name": "Python 3 (ipykernel)",
   "language": "python",
   "name": "python3"
  },
  "language_info": {
   "codemirror_mode": {
    "name": "ipython",
    "version": 3
   },
   "file_extension": ".py",
   "mimetype": "text/x-python",
   "name": "python",
   "nbconvert_exporter": "python",
   "pygments_lexer": "ipython3",
   "version": "3.10.8"
  }
 },
 "nbformat": 4,
 "nbformat_minor": 5
}
