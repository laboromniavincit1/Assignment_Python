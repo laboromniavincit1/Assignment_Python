{
 "cells": [
  {
   "cell_type": "code",
   "execution_count": 3,
   "id": "b93b806b-9f0d-41f1-a701-d88fe3788d31",
   "metadata": {},
   "outputs": [
    {
     "name": "stdout",
     "output_type": "stream",
     "text": [
      "Name of the Vehicle is : Ducati\n",
      "Max Speed of the Vehicle is : 240\n",
      "Average of vehicle is : 35km/l\n"
     ]
    }
   ],
   "source": [
    "# Q1, Create a vehicle class with an init method having instance variables as name_of_vehicle, max_speed\n",
    "# and average_of_vehicle.\n",
    "class vehicle :\n",
    "    \n",
    "    def __init__(self, name_of_vehicle, max_speed, average_of_vehicle):\n",
    "        self.name_of_vehicle = name_of_vehicle\n",
    "        self.max_speed = max_speed\n",
    "        self.average_of_vehicle = average_of_vehicle\n",
    "    \n",
    "    def show_details(self):\n",
    "        print(\"Name of the Vehicle is :\", self.name_of_vehicle)\n",
    "        print(\"Max Speed of the Vehicle is :\", self.max_speed)\n",
    "        print(\"Average of vehicle is :\", self.average_of_vehicle)\n",
    "    def return_name(self):\n",
    "        \n",
    "\n",
    "ducati = vehicle(\"Ducati\", 240, \"35km/l\")\n",
    "ducati.show_details()"
   ]
  },
  {
   "cell_type": "code",
   "execution_count": 27,
   "id": "bbe9818c-3442-44cd-b96c-e979c928e6ff",
   "metadata": {},
   "outputs": [],
   "source": [
    "# Q2. Create a child class car from the vehicle class created in Que 1, which will inherit the vehicle class.\n",
    "# Create a method named seating_capacity which takes capacity as an argument and returns the name of\n",
    "# the vehicle and its seating capacity.\n",
    "class car (vehicle):\n",
    "    \n",
    "    def seating_capacity(self,capacity):\n",
    "        self.capacity = capacity\n",
    "        return self.name_of_vehicle, self.capacity"
   ]
  },
  {
   "cell_type": "code",
   "execution_count": 28,
   "id": "ca058231-fb32-431d-9576-7870798b6418",
   "metadata": {},
   "outputs": [],
   "source": [
    "suzuki = car(\"Suzuki\", 220, 22)"
   ]
  },
  {
   "cell_type": "code",
   "execution_count": 29,
   "id": "1b0ed493-9ef8-45c3-b949-5e073de05d5d",
   "metadata": {},
   "outputs": [
    {
     "data": {
      "text/plain": [
       "('Suzuki', 5)"
      ]
     },
     "execution_count": 29,
     "metadata": {},
     "output_type": "execute_result"
    }
   ],
   "source": [
    "suzuki.seating_capacity(5)"
   ]
  },
  {
   "cell_type": "code",
   "execution_count": 31,
   "id": "d6f7b79c-5cb0-4796-9868-00bdd92a0724",
   "metadata": {},
   "outputs": [
    {
     "name": "stdout",
     "output_type": "stream",
     "text": [
      "This is base1 class\n",
      "This is base2 class\n"
     ]
    }
   ],
   "source": [
    "# Q3. What is multiple inheritance? Write a python code to demonstrate multiple inheritance.\n",
    "#Answer: When one class inherits from two or more class than it is known as multiple inheritance \n",
    "#Example\n",
    "class base1:\n",
    "    \n",
    "    def fun1(self):\n",
    "        print(\"This is base1 class\")\n",
    "        \n",
    "class base2:\n",
    "    \n",
    "    def fun2(self):\n",
    "        print(\"This is base2 class\")\n",
    "        \n",
    "class child(base1, base2):\n",
    "    pass\n",
    "\n",
    "obj = child()\n",
    "obj.fun1()\n",
    "obj.fun2()"
   ]
  },
  {
   "cell_type": "code",
   "execution_count": 28,
   "id": "88693084-c7b7-4bff-a47c-626e7b349462",
   "metadata": {},
   "outputs": [
    {
     "data": {
      "text/plain": [
       "1200"
      ]
     },
     "execution_count": 28,
     "metadata": {},
     "output_type": "execute_result"
    }
   ],
   "source": [
    "# Q4. What are getter and setter in python? Create a class and create a getter and a setter method in this\n",
    "# class.\n",
    "#Answer: getter and setter are the OOPs function in python. getter is used to access the values of private and protected attributes of an \n",
    "       # object. private variables cannot be accessed directly, the getter method provides a way to retrieve them from outside the class.\n",
    "       # while setter is used to modify and update the values of private and protected attributes of an object. \n",
    "#Example\n",
    "class employee:\n",
    "    \n",
    "    def __init__(self,name,salary):\n",
    "        self.name = name \n",
    "        self.__salary = salary\n",
    "    \n",
    "    @property\n",
    "    def access_salary(self):\n",
    "        return self.__salary\n",
    "    \n",
    "    @access_salary.getter\n",
    "    def get_salary(self):\n",
    "        return self.__salary\n",
    "    \n",
    "    @access_salary.setter\n",
    "    def set_salary(self,salary):\n",
    "        self.__salary = salary\n",
    "    \n",
    "ram = employee(\"ram\",1200)\n",
    "ram.get_salary"
   ]
  },
  {
   "cell_type": "code",
   "execution_count": 29,
   "id": "5ebca419-e321-412e-8a17-2b0b1b64fd4a",
   "metadata": {},
   "outputs": [],
   "source": [
    "ram.set_salary = 1500"
   ]
  },
  {
   "cell_type": "code",
   "execution_count": 30,
   "id": "baf5fb0d-a4ac-46a9-a599-04dec4668233",
   "metadata": {},
   "outputs": [
    {
     "data": {
      "text/plain": [
       "1500"
      ]
     },
     "execution_count": 30,
     "metadata": {},
     "output_type": "execute_result"
    }
   ],
   "source": [
    "ram.get_salary"
   ]
  },
  {
   "cell_type": "code",
   "execution_count": 1,
   "id": "cd8fe205-6cae-465d-b432-fd463b6797b7",
   "metadata": {},
   "outputs": [
    {
     "name": "stdout",
     "output_type": "stream",
     "text": [
      "Parent Class\n",
      "Child Class\n"
     ]
    }
   ],
   "source": [
    "# Q5.What is method overriding in python? Write a python code to demonstrate method overriding.\n",
    "#Answer: Method overriding is a concept of OOPs that allows us to change the implementation of a function in the child class that \n",
    "      # is defined in the parent class . When a method in a subclass has the same name , same parameters and same return type as a \n",
    "      # method in its parent class then the method in the subclass is said to be override the method in the super class\n",
    "#Example : \n",
    "class parent:\n",
    "    def __init__(self):\n",
    "        self.value = \"Parent Class\"\n",
    "        \n",
    "    def show(self):                     #show function in parent class\n",
    "        print(self.value)\n",
    "\n",
    "class child(parent):\n",
    "    \n",
    "    def __init__(self):\n",
    "        self.value = \"Child Class\"\n",
    "        \n",
    "    def show(self):                     #show function with same parameters , same return type but different functionality \n",
    "        print(self.value)\n",
    "\n",
    "obj1 = parent()\n",
    "obj2 = child()\n",
    "\n",
    "obj1.show()\n",
    "obj2.show()"
   ]
  },
  {
   "cell_type": "code",
   "execution_count": null,
   "id": "05602707-f9ca-4b14-9924-f5b2723631be",
   "metadata": {},
   "outputs": [],
   "source": []
  }
 ],
 "metadata": {
  "kernelspec": {
   "display_name": "Python 3 (ipykernel)",
   "language": "python",
   "name": "python3"
  },
  "language_info": {
   "codemirror_mode": {
    "name": "ipython",
    "version": 3
   },
   "file_extension": ".py",
   "mimetype": "text/x-python",
   "name": "python",
   "nbconvert_exporter": "python",
   "pygments_lexer": "ipython3",
   "version": "3.10.8"
  }
 },
 "nbformat": 4,
 "nbformat_minor": 5
}
