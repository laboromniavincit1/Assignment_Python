{
 "cells": [
  {
   "cell_type": "code",
   "execution_count": 21,
   "id": "c662ec67",
   "metadata": {},
   "outputs": [
    {
     "name": "stdout",
     "output_type": "stream",
     "text": [
      "Enter percentage : 87\n",
      "B\n"
     ]
    }
   ],
   "source": [
    "#Question 1 : Write a program to accept percentage from the user and display the grade according to the following criteria\n",
    "marks = int(input(\"Enter percentage : \"))\n",
    "if marks >90:\n",
    "    print(\"A\")\n",
    "elif marks > 80 and marks <= 90:\n",
    "    print(\"B\")\n",
    "elif marks >= 60 and marks <= 80:\n",
    "    print(\"C\")\n",
    "else:\n",
    "    print(\"D\")"
   ]
  },
  {
   "cell_type": "code",
   "execution_count": 22,
   "id": "a34e8e99",
   "metadata": {},
   "outputs": [
    {
     "name": "stdout",
     "output_type": "stream",
     "text": [
      "Enter cost price of bike : 50000\n",
      "tax is 2500.0\n"
     ]
    }
   ],
   "source": [
    "#Question 2 : write a program to accept the cost price of a bike and display the road tax to be paid according to the following criteria\n",
    "cost_price = int(input(\"Enter cost price of bike : \"))\n",
    "if cost_price > 100000:\n",
    "    tax = (cost_price*15)/100\n",
    "    print(\"tax is {}\".format(tax))\n",
    "elif cost_price > 50000 and cost_price <= 100000:\n",
    "    tax = (cost_price*10)/100\n",
    "    print(\"tax is {}\".format(tax))\n",
    "else:\n",
    "    tax = (cost_price*5)/100\n",
    "    print(\"tax is {}\".format(tax))"
   ]
  },
  {
   "cell_type": "code",
   "execution_count": 23,
   "id": "6a9c8951",
   "metadata": {},
   "outputs": [
    {
     "name": "stdout",
     "output_type": "stream",
     "text": [
      "Enter city name : delhi\n",
      "Red Fort\n"
     ]
    }
   ],
   "source": [
    "#Question 3 : accept any city from the user and display monuments of that city \n",
    "city = input(\"Enter city name : \")\n",
    "if city == 'Delhi' or city == 'delhi':\n",
    "    print(\"Red Fort\")\n",
    "elif city == 'Agra' or city == 'agra':\n",
    "    print(\"Taj Mahal\")\n",
    "elif city == 'Jaipur' or city == 'jaipur':\n",
    "    print(\"Jal Mahal\")"
   ]
  },
  {
   "cell_type": "code",
   "execution_count": 24,
   "id": "989b0415",
   "metadata": {},
   "outputs": [
    {
     "name": "stdout",
     "output_type": "stream",
     "text": [
      "Enter any number : 55\n",
      "15\n"
     ]
    }
   ],
   "source": [
    "#Question 4 : Check how many timess a given number can be divided by 3 before it is less than or equal to 10\n",
    "num = int(input(\"Enter any number : \"))\n",
    "count=0\n",
    "for i in range (num+1):\n",
    "    if i > 10:\n",
    "        if i%3==0:\n",
    "            count+=1\n",
    "print(count)"
   ]
  },
  {
   "cell_type": "code",
   "execution_count": 1,
   "id": "c4c3dc8e",
   "metadata": {},
   "outputs": [
    {
     "name": "stdout",
     "output_type": "stream",
     "text": [
      "55\n"
     ]
    }
   ],
   "source": [
    "# Question 5 :  Why and when to use while loop in python give a detailed description with example\n",
    "\"\"\"While loop is used to run a block of code repeatedly until the given condition is ture.\n",
    "   while loop is used when u have some condition on that basis we have to repeate the code for instances if we want to \n",
    "   print the counting till a given number then we need to use the while loop . We do same thing with for loop \n",
    "   \n",
    "   example\"\"\"\n",
    "i = 1\n",
    "sum = 0\n",
    "while (i <= 10):\n",
    "    sum+=i\n",
    "    i+=1\n",
    "print(sum)\n",
    "\n",
    "#in the above code we have to print sum of first 10 naural numbers so we give a condtion \n",
    "#that untill the value of i became less or equall to zero till than the code will execute on reapeate basis"
   ]
  },
  {
   "cell_type": "code",
   "execution_count": 18,
   "id": "bfd8b17f",
   "metadata": {
    "scrolled": true
   },
   "outputs": [
    {
     "name": "stdout",
     "output_type": "stream",
     "text": [
      "        * \n",
      "      * * \n",
      "    * * * \n",
      "  * * * * \n",
      "* * * * * \n",
      "        *         \n",
      "      * * *       \n",
      "    * * * * *     \n",
      "  * * * * * * *   \n",
      "* * * * * * * * * \n",
      "* * * * * * * * * \n",
      "  * * * * * * *   \n",
      "    * * * * *     \n",
      "      * * *       \n",
      "        *         \n"
     ]
    }
   ],
   "source": [
    "# Question 6 : Use nested while loop to print 3 different pattern.\n",
    "# first pattern \n",
    "i = 0\n",
    "while(i < 5):\n",
    "    j = 0\n",
    "    while (j < 5):\n",
    "        if (j <= 3-i):\n",
    "            print(\" \", end = \" \")\n",
    "        else :\n",
    "            print(\"*\", end = \" \")\n",
    "        j+=1\n",
    "    print()\n",
    "    i+=1\n",
    "# second pattern\n",
    "i = 0\n",
    "while(i < 5):\n",
    "    j = 0\n",
    "    while (j < 9):\n",
    "        if (i+j <= 3 or j >= 5+i):\n",
    "            print(\" \", end = \" \")\n",
    "        else :\n",
    "            print(\"*\", end = \" \")\n",
    "        j+=1\n",
    "    print()\n",
    "    i+=1\n",
    "    \n",
    "#third pattern \n",
    "i = 0\n",
    "while(i < 5):\n",
    "    j = 0\n",
    "    while (j < 9):\n",
    "        if (j <= i-1 or j > 8-i):\n",
    "            print(\" \", end = \" \")\n",
    "        else :\n",
    "            print(\"*\", end = \" \")\n",
    "        j+=1\n",
    "    print()\n",
    "    i+=1"
   ]
  },
  {
   "cell_type": "code",
   "execution_count": 19,
   "id": "f8a202b5",
   "metadata": {},
   "outputs": [
    {
     "name": "stdout",
     "output_type": "stream",
     "text": [
      "10\n",
      "9\n",
      "8\n",
      "7\n",
      "6\n",
      "5\n",
      "4\n",
      "3\n",
      "2\n",
      "1\n"
     ]
    }
   ],
   "source": [
    "#Question 7 : Reverse a while loop to display numbers from 10 to 1.\n",
    "i = 10 \n",
    "while i >= 1:\n",
    "    print(i)\n",
    "    i-=1"
   ]
  },
  {
   "cell_type": "code",
   "execution_count": 20,
   "id": "42d55675",
   "metadata": {},
   "outputs": [
    {
     "name": "stdout",
     "output_type": "stream",
     "text": [
      "10\n",
      "9\n",
      "8\n",
      "7\n",
      "6\n",
      "5\n",
      "4\n",
      "3\n",
      "2\n",
      "1\n"
     ]
    }
   ],
   "source": [
    "#Question 8 : Reverse a while loop to display number from 10 to 1.\n",
    "i = 10 \n",
    "while i >= 1:\n",
    "    print(i)\n",
    "    i-=1"
   ]
  },
  {
   "cell_type": "code",
   "execution_count": null,
   "id": "0e6c49c8",
   "metadata": {},
   "outputs": [],
   "source": []
  }
 ],
 "metadata": {
  "kernelspec": {
   "display_name": "Python 3 (ipykernel)",
   "language": "python",
   "name": "python3"
  },
  "language_info": {
   "codemirror_mode": {
    "name": "ipython",
    "version": 3
   },
   "file_extension": ".py",
   "mimetype": "text/x-python",
   "name": "python",
   "nbconvert_exporter": "python",
   "pygments_lexer": "ipython3",
   "version": "3.9.13"
  }
 },
 "nbformat": 4,
 "nbformat_minor": 5
}
