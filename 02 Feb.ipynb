{
 "cells": [
  {
   "cell_type": "code",
   "execution_count": 1,
   "id": "e97a8d6e",
   "metadata": {},
   "outputs": [
    {
     "name": "stdout",
     "output_type": "stream",
     "text": [
      "Enter lucky no. to win the game : 1\n",
      "Try again \n",
      "Enter lucky no. to win the game : 1\n",
      "Try again \n",
      "Enter lucky no. to win the game : 2\n",
      "Try again \n",
      "Enter lucky no. to win the game : 5\n",
      "Try again \n",
      "Enter lucky no. to win the game : 1\n",
      "Try again \n",
      "Enter lucky no. to win the game : 6\n",
      "Try again \n",
      "Enter lucky no. to win the game : 5\n",
      "Try again \n",
      "Enter lucky no. to win the game : 14\n",
      "You win!! you guess the lucky number!!\n"
     ]
    }
   ],
   "source": [
    "# Question 1: Explain with an example each when to use a for loop and a while loop.\n",
    "# Answer : The for statement iterates through a collection or iterable object. For is used when we know total no of iterations \n",
    "#          The while statement simply loops until a condition is False. while is used when we don't know total no of iteration \n",
    "        \n",
    "#         In for loop once a condition is done it cannot be reapeated but in while it reapeats at every condtion \n",
    "        \n",
    "# Example :\n",
    "# lets supppose we have a list of first 10 natural numbers and we wants the sum of the all elements of that list in that case \n",
    "# we know that we that a loop we execute 10 time not more than that then we use for loop\n",
    "l = [1,2,3,4,5,6,7,8,9,10]\n",
    "sum = 0\n",
    "for i in l:\n",
    "    sum+=i\n",
    "sum\n",
    "\n",
    "# let suppose we ask from user to guess a lucky no. \n",
    "#In this condtion we don't know how many attempts user will\n",
    "# need to guess correctly. It can be 1, 20, or maybe indefinite .\n",
    "while(True):\n",
    "    number = int(input(\"Enter lucky no. to win the game : \"))\n",
    "    if number == 14 :\n",
    "        print(\"You win!! you guess the lucky number!!\")\n",
    "        break\n",
    "    else:\n",
    "        print(\"Try again \")\n",
    "        continue"
   ]
  },
  {
   "cell_type": "code",
   "execution_count": 1,
   "id": "1a189f0f",
   "metadata": {},
   "outputs": [
    {
     "name": "stdout",
     "output_type": "stream",
     "text": [
      "55\n",
      "3628800\n",
      "55\n",
      "3628800\n"
     ]
    }
   ],
   "source": [
    "#Question 2: Write a python program to print the sum and product of the first 10 natural numbers using for and while loop.\n",
    "#sum using for loop\n",
    "sum = 0\n",
    "for i in range(11):\n",
    "    sum+=i\n",
    "print(sum)\n",
    "\n",
    "#product using while loop\n",
    "product = 1\n",
    "for i in range(1,11):\n",
    "    product*=i\n",
    "print(product)\n",
    "\n",
    "#sum using while loop\n",
    "i,sumw = 1,0\n",
    "while(i <= 10):\n",
    "    sumw+=i\n",
    "    i+=1\n",
    "print(sumw)\n",
    "\n",
    "#product using while loop\n",
    "ii,pro= 1,1\n",
    "while(ii <= 10):\n",
    "    pro*=ii\n",
    "    ii+=1\n",
    "print(pro)"
   ]
  },
  {
   "cell_type": "code",
   "execution_count": 4,
   "id": "8d7eb2d1",
   "metadata": {},
   "outputs": [
    {
     "name": "stdout",
     "output_type": "stream",
     "text": [
      "Enter the units consumed in a month : 310\n",
      "2250.0\n"
     ]
    }
   ],
   "source": [
    "# Question 3:  Create a python program to compute the electricity bill for a household.\n",
    "# The per-unit charges in rupees are as follows: For the first 100 units, the user will be charged Rs. 4.5 per\n",
    "# unit, for the next 100 units, the user will be charged Rs. 6 per unit, and for the next 100 units, the user will\n",
    "# be charged Rs. 10 per unit, After 300 units and above the user will be charged Rs. 20 per unit.\n",
    "# You are required to take the units of electricity consumed in a month from the user as input.\n",
    "# Your program must pass this test case: when the unit of electricity consumed by the user in a month is\n",
    "# 310, the total electricity bill should be 2250.\n",
    "units = int(input(\"Enter the units consumed in a month : \"))\n",
    "if units <= 100:\n",
    "    bill = units*4.5\n",
    "    print(bill)\n",
    "elif units > 100 and units <= 200:\n",
    "    x = units - 100\n",
    "    bill = 100*4.5 + x*6\n",
    "    print(bill)\n",
    "elif units > 200 and units <=300:\n",
    "    x = units - 200\n",
    "    bill = 100*4.5 + 100*6 + x*10\n",
    "    print(bill)\n",
    "else :\n",
    "    x = units - 300\n",
    "    bill = 100*4.5 + 100*6 + 100*10 + x*20\n",
    "    print(bill)"
   ]
  },
  {
   "cell_type": "code",
   "execution_count": 11,
   "id": "2ba07173",
   "metadata": {},
   "outputs": [
    {
     "name": "stdout",
     "output_type": "stream",
     "text": [
      "[8, 64, 125, 216, 512, 1000, 1728, 2744, 3375, 4096, 5832, 8000, 10648, 13824, 15625, 17576, 21952, 27000, 32768, 39304, 42875, 46656, 54872, 64000, 74088, 85184, 91125, 97336, 110592, 125000, 140608, 157464, 166375, 175616, 195112, 216000, 238328, 262144, 274625, 287496, 314432, 343000, 373248, 405224, 421875, 438976, 474552, 512000, 551368, 592704, 614125, 636056, 681472, 729000, 778688, 830584, 857375, 884736, 941192, 1000000]\n"
     ]
    }
   ],
   "source": [
    "# Qestion 4 : Create a list of numbers from 1 to 100. Use for loop and while loop to calculate the cube of each\n",
    "# number and if the cube of that number is divisible by 4 or 5 then append that number in a list and print\n",
    "# that list.\n",
    "#using for loop\n",
    "x = [i**3 for i in range(1,101)]\n",
    "final = [i for i in x if i % 4 == 0 or i % 5 == 0]\n",
    "print(final)"
   ]
  },
  {
   "cell_type": "code",
   "execution_count": 12,
   "id": "df78d6dd",
   "metadata": {},
   "outputs": [
    {
     "name": "stdout",
     "output_type": "stream",
     "text": [
      "12\n"
     ]
    }
   ],
   "source": [
    "# Q5. Write a program to filter count vowels in the below-given string.\n",
    "# string = \"I want to become a data scientist\"\n",
    "string = \"I want to become a data scientist\"\n",
    "count = 0\n",
    "for i in string:\n",
    "    if i == 'a' or i == 'e' or i == 'i' or i == 'o' or i == 'u' or i == 'A' or i == 'E' or i == 'I' or i == 'O' or i == 'U':\n",
    "        count+=1\n",
    "print(count)"
   ]
  },
  {
   "cell_type": "code",
   "execution_count": null,
   "id": "5af7cecf",
   "metadata": {},
   "outputs": [],
   "source": []
  }
 ],
 "metadata": {
  "kernelspec": {
   "display_name": "Python 3 (ipykernel)",
   "language": "python",
   "name": "python3"
  },
  "language_info": {
   "codemirror_mode": {
    "name": "ipython",
    "version": 3
   },
   "file_extension": ".py",
   "mimetype": "text/x-python",
   "name": "python",
   "nbconvert_exporter": "python",
   "pygments_lexer": "ipython3",
   "version": "3.9.13"
  }
 },
 "nbformat": 4,
 "nbformat_minor": 5
}
